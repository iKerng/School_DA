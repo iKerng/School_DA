{
 "cells": [
  {
   "cell_type": "code",
   "execution_count": 2,
   "outputs": [],
   "source": [
    "import pandas as pd\n",
    "import numpy as np\n",
    "import plotly \n",
    "import re\n",
    "import plotly.express as px"
   ],
   "metadata": {
    "collapsed": false,
    "pycharm": {
     "name": "#%%\n"
    }
   }
  },
  {
   "cell_type": "code",
   "execution_count": 3,
   "metadata": {
    "pycharm": {
     "name": "#%%\n"
    }
   },
   "outputs": [
    {
     "name": "stderr",
     "output_type": "stream",
     "text": [
      "C:\\Users\\iKerng\\anaconda3\\lib\\site-packages\\IPython\\core\\interactiveshell.py:3146: DtypeWarning: Columns (3,4,5,6,12) have mixed types.Specify dtype option on import or set low_memory=False.\n",
      "  has_raised = await self.run_ast_nodes(code_ast.body, cell_name,\n"
     ]
    }
   ],
   "source": [
    "df_salaries = pd.read_csv('C:\\\\Users\\\\iKerng\\\\Python\\\\School_DA\\\\final_task\\\\data\\\\Salaries.csv', delimiter=',')\n",
    "df_salaries = df_salaries[['Id', 'EmployeeName', 'JobTitle', 'BasePay', 'OvertimePay',\n",
    "                           'OtherPay', 'Benefits', 'TotalPay', 'TotalPayBenefits', 'Year', 'Status']]"
   ]
  },
  {
   "cell_type": "code",
   "execution_count": 4,
   "metadata": {
    "pycharm": {
     "name": "#%%\n"
    }
   },
   "outputs": [
    {
     "name": "stdout",
     "output_type": "stream",
     "text": [
      "<class 'pandas.core.frame.DataFrame'>\n",
      "RangeIndex: 148654 entries, 0 to 148653\n",
      "Data columns (total 11 columns):\n",
      " #   Column            Non-Null Count   Dtype  \n",
      "---  ------            --------------   -----  \n",
      " 0   Id                148654 non-null  int64  \n",
      " 1   EmployeeName      148654 non-null  object \n",
      " 2   JobTitle          148654 non-null  object \n",
      " 3   BasePay           148049 non-null  object \n",
      " 4   OvertimePay       148654 non-null  object \n",
      " 5   OtherPay          148654 non-null  object \n",
      " 6   Benefits          112495 non-null  object \n",
      " 7   TotalPay          148654 non-null  float64\n",
      " 8   TotalPayBenefits  148654 non-null  float64\n",
      " 9   Year              148654 non-null  int64  \n",
      " 10  Status            38119 non-null   object \n",
      "dtypes: float64(2), int64(2), object(7)\n",
      "memory usage: 12.5+ MB\n"
     ]
    }
   ],
   "source": [
    "# df_salaries.EmployeeName.astype('str')\n",
    "df_salaries.info()\n",
    "# Id,\n",
    "# EmployeeName - ФИО Сотрудника,\n",
    "# JobTitle - Должность,\n",
    "# BasePay - Зарплата,\n",
    "# OvertimePay - Переработка,\n",
    "# OtherPay - Другие доходы,\n",
    "# Benefits,\n",
    "# TotalPay Итоговый заработок,\n",
    "# TotalPayBenefits Итоговый заработок с учетом преимуществ,\n",
    "# Year Год,\n",
    "# Notes Доп информация,\n",
    "# Agency Агентство,\n",
    "# Status Статус PT (part-time) FT (full-time)\n"
   ]
  },
  {
   "cell_type": "code",
   "execution_count": 5,
   "outputs": [],
   "source": [
    "# df_salaries[type(df_salaries['EmployeeName']) != str]['EmployeeName']\n",
    "# ls_error = []\n",
    "# for i in df_salaries.EmployeeName:\n",
    "#     if type(i) != type(''):\n",
    "#         ls_error.append(i)\n",
    "\n",
    "# df_salaries.EmployeeName.apply(lambda x: ls_error.append(x) if type(x) != type(''))\n",
    "# ls_error\n",
    "\n",
    "# type(df_salaries.EmployeeName)"
   ],
   "metadata": {
    "collapsed": false,
    "pycharm": {
     "name": "#%%\n"
    }
   }
  },
  {
   "cell_type": "code",
   "execution_count": 6,
   "metadata": {},
   "outputs": [],
   "source": [
    "def str_nice(name=''):\n",
    "    if type(name) == str:\n",
    "        name = name.lower()\n",
    "        name = re.sub(r'\\s{2,}', ' ', name)\n",
    "        name = re.sub(r'[^\\w ]|\\d', '', name)\n",
    "    return name\n"
   ]
  },
  {
   "cell_type": "code",
   "execution_count": 7,
   "metadata": {
    "pycharm": {
     "name": "#%%\n"
    }
   },
   "outputs": [],
   "source": [
    "df_salaries.EmployeeName = df_salaries.EmployeeName.apply(str_nice)"
   ]
  },
  {
   "cell_type": "code",
   "execution_count": 8,
   "metadata": {
    "pycharm": {
     "name": "#%%\n"
    }
   },
   "outputs": [
    {
     "data": {
      "text/plain": "EmployeeName\na bernard fatooh         4\na elizabeth marchasin    1\na james robertson ii     3\na jamil niazi            1\na k finizio              1\n                        ..\nzun jin zhang he         4\nzuna luu                 2\nzuna t luu               2\nzuren mei                1\nzuri jones               4\nName: EmployeeName, Length: 70542, dtype: int64"
     },
     "execution_count": 8,
     "metadata": {},
     "output_type": "execute_result"
    }
   ],
   "source": [
    "df_salaries.groupby(by='EmployeeName')['EmployeeName'].count()\n"
   ]
  },
  {
   "cell_type": "code",
   "execution_count": 9,
   "metadata": {
    "pycharm": {
     "name": "#%%\n"
    }
   },
   "outputs": [],
   "source": [
    "# функция разбивает ФИО по словам в лист\n",
    "# затем сортирует лист по длине слов ФИО\n",
    "# и составляет строку из двух самых длинных слов\n",
    "# практика показала, что данная функция уменьшает количество групп на 23 из 70542\n",
    "def split_sort_join(name=''):\n",
    "    name = str(name).split(' ')\n",
    "    name.sort(reverse=True)\n",
    "    name = ' '.join(name[::1])\n",
    "    return name\n",
    "\n"
   ]
  },
  {
   "cell_type": "code",
   "execution_count": 10,
   "metadata": {
    "pycharm": {
     "name": "#%%\n"
    }
   },
   "outputs": [
    {
     "data": {
      "text/plain": "                           Id                  JobTitle   BasePay OvertimePay  \\\nEmployeeName                                                                    \na bernard fatooh        29354  sheriffs property keeper   19969.4           0   \na bernard fatooh        66372  sheriffs property keeper   18472.3           0   \na bernard fatooh       102844  sheriffs property keeper   23908.5           0   \na bernard fatooh       140526  sheriffs property keeper  24061.35        0.00   \na elizabeth marchasin   28470           principal clerk   23591.8           0   \n...                       ...                       ...       ...         ...   \nzuren mei               22351                 custodian   48472.4     2524.87   \nzuri jones              17186  deputy probation officer     70888           0   \nzuri jones              49186  deputy probation officer   86588.5           0   \nzuri jones              93464  deputy probation officer   71986.9           0   \nzuri jones             132615  deputy probation officer  66667.54        0.00   \n\n                      OtherPay  Benefits  TotalPay  TotalPayBenefits  Year  \\\nEmployeeName                                                                 \na bernard fatooh         70.54       NaN  20039.91          20039.91  2011   \na bernard fatooh         27.84   5014.66  18500.19          23514.85  2012   \na bernard fatooh         15.12   5455.62  23923.62          29379.24  2013   \na bernard fatooh          0.00   6091.68  24061.35          30153.03  2014   \na elizabeth marchasin  2691.06       NaN  26282.86          26282.86  2011   \n...                        ...       ...       ...               ...   ...   \nzuren mei                 5611       NaN  56608.27          56608.27  2011   \nzuri jones                   0       NaN  70888.04          70888.04  2011   \nzuri jones                   0   35762.3  86588.52         122350.86  2012   \nzuri jones                   0   22727.2  71986.90          94714.11  2013   \nzuri jones                0.00  22870.94  66667.54          89538.48  2014   \n\n                      Status  \nEmployeeName                  \na bernard fatooh         NaN  \na bernard fatooh         NaN  \na bernard fatooh         NaN  \na bernard fatooh          PT  \na elizabeth marchasin    NaN  \n...                      ...  \nzuren mei                NaN  \nzuri jones               NaN  \nzuri jones               NaN  \nzuri jones               NaN  \nzuri jones                PT  \n\n[148654 rows x 10 columns]",
      "text/html": "<div>\n<style scoped>\n    .dataframe tbody tr th:only-of-type {\n        vertical-align: middle;\n    }\n\n    .dataframe tbody tr th {\n        vertical-align: top;\n    }\n\n    .dataframe thead th {\n        text-align: right;\n    }\n</style>\n<table border=\"1\" class=\"dataframe\">\n  <thead>\n    <tr style=\"text-align: right;\">\n      <th></th>\n      <th>Id</th>\n      <th>JobTitle</th>\n      <th>BasePay</th>\n      <th>OvertimePay</th>\n      <th>OtherPay</th>\n      <th>Benefits</th>\n      <th>TotalPay</th>\n      <th>TotalPayBenefits</th>\n      <th>Year</th>\n      <th>Status</th>\n    </tr>\n    <tr>\n      <th>EmployeeName</th>\n      <th></th>\n      <th></th>\n      <th></th>\n      <th></th>\n      <th></th>\n      <th></th>\n      <th></th>\n      <th></th>\n      <th></th>\n      <th></th>\n    </tr>\n  </thead>\n  <tbody>\n    <tr>\n      <th>a bernard fatooh</th>\n      <td>29354</td>\n      <td>sheriffs property keeper</td>\n      <td>19969.4</td>\n      <td>0</td>\n      <td>70.54</td>\n      <td>NaN</td>\n      <td>20039.91</td>\n      <td>20039.91</td>\n      <td>2011</td>\n      <td>NaN</td>\n    </tr>\n    <tr>\n      <th>a bernard fatooh</th>\n      <td>66372</td>\n      <td>sheriffs property keeper</td>\n      <td>18472.3</td>\n      <td>0</td>\n      <td>27.84</td>\n      <td>5014.66</td>\n      <td>18500.19</td>\n      <td>23514.85</td>\n      <td>2012</td>\n      <td>NaN</td>\n    </tr>\n    <tr>\n      <th>a bernard fatooh</th>\n      <td>102844</td>\n      <td>sheriffs property keeper</td>\n      <td>23908.5</td>\n      <td>0</td>\n      <td>15.12</td>\n      <td>5455.62</td>\n      <td>23923.62</td>\n      <td>29379.24</td>\n      <td>2013</td>\n      <td>NaN</td>\n    </tr>\n    <tr>\n      <th>a bernard fatooh</th>\n      <td>140526</td>\n      <td>sheriffs property keeper</td>\n      <td>24061.35</td>\n      <td>0.00</td>\n      <td>0.00</td>\n      <td>6091.68</td>\n      <td>24061.35</td>\n      <td>30153.03</td>\n      <td>2014</td>\n      <td>PT</td>\n    </tr>\n    <tr>\n      <th>a elizabeth marchasin</th>\n      <td>28470</td>\n      <td>principal clerk</td>\n      <td>23591.8</td>\n      <td>0</td>\n      <td>2691.06</td>\n      <td>NaN</td>\n      <td>26282.86</td>\n      <td>26282.86</td>\n      <td>2011</td>\n      <td>NaN</td>\n    </tr>\n    <tr>\n      <th>...</th>\n      <td>...</td>\n      <td>...</td>\n      <td>...</td>\n      <td>...</td>\n      <td>...</td>\n      <td>...</td>\n      <td>...</td>\n      <td>...</td>\n      <td>...</td>\n      <td>...</td>\n    </tr>\n    <tr>\n      <th>zuren mei</th>\n      <td>22351</td>\n      <td>custodian</td>\n      <td>48472.4</td>\n      <td>2524.87</td>\n      <td>5611</td>\n      <td>NaN</td>\n      <td>56608.27</td>\n      <td>56608.27</td>\n      <td>2011</td>\n      <td>NaN</td>\n    </tr>\n    <tr>\n      <th>zuri jones</th>\n      <td>17186</td>\n      <td>deputy probation officer</td>\n      <td>70888</td>\n      <td>0</td>\n      <td>0</td>\n      <td>NaN</td>\n      <td>70888.04</td>\n      <td>70888.04</td>\n      <td>2011</td>\n      <td>NaN</td>\n    </tr>\n    <tr>\n      <th>zuri jones</th>\n      <td>49186</td>\n      <td>deputy probation officer</td>\n      <td>86588.5</td>\n      <td>0</td>\n      <td>0</td>\n      <td>35762.3</td>\n      <td>86588.52</td>\n      <td>122350.86</td>\n      <td>2012</td>\n      <td>NaN</td>\n    </tr>\n    <tr>\n      <th>zuri jones</th>\n      <td>93464</td>\n      <td>deputy probation officer</td>\n      <td>71986.9</td>\n      <td>0</td>\n      <td>0</td>\n      <td>22727.2</td>\n      <td>71986.90</td>\n      <td>94714.11</td>\n      <td>2013</td>\n      <td>NaN</td>\n    </tr>\n    <tr>\n      <th>zuri jones</th>\n      <td>132615</td>\n      <td>deputy probation officer</td>\n      <td>66667.54</td>\n      <td>0.00</td>\n      <td>0.00</td>\n      <td>22870.94</td>\n      <td>66667.54</td>\n      <td>89538.48</td>\n      <td>2014</td>\n      <td>PT</td>\n    </tr>\n  </tbody>\n</table>\n<p>148654 rows × 10 columns</p>\n</div>"
     },
     "execution_count": 10,
     "metadata": {},
     "output_type": "execute_result"
    }
   ],
   "source": [
    "df_test = df_salaries.sort_values(by=['EmployeeName', 'Id']).set_index('EmployeeName')\n",
    "df_test['JobTitle'] = df_test['JobTitle'].apply(str_nice)\n",
    "df_test"
   ]
  },
  {
   "cell_type": "code",
   "execution_count": 12,
   "metadata": {
    "pycharm": {
     "name": "#%%\n"
    }
   },
   "outputs": [],
   "source": [
    "# df_test.groupby(by='')['Status'].count().sort_values(ascending=False)"
   ]
  },
  {
   "cell_type": "code",
   "execution_count": 13,
   "outputs": [],
   "source": [
    "df_job_title = pd.DataFrame((df_test.groupby(by='JobTitle')['JobTitle'].count()).sort_values(ascending=False)).\\\n",
    "    rename(columns={'JobTitle':'quantity'}).reset_index()\n",
    "\n"
   ],
   "metadata": {
    "collapsed": false,
    "pycharm": {
     "name": "#%%\n"
    }
   }
  },
  {
   "cell_type": "code",
   "execution_count": 14,
   "outputs": [
    {
     "data": {
      "text/plain": "                                               JobTitle  quantity\n246                                 maintenance planner       100\n247                                principal accountant        99\n248                                     senior engineer        99\n249                                    watershed keeper        98\n250                                         manager vii        98\n...                                                 ...       ...\n1553                secretary human services commission         1\n1554                   secretary to the presiding judge         1\n1555             secretaryjuvenile probation commission         1\n1556  captain bureau of fire prevention and public safe         1\n1557                                        zoo curator         1\n\n[1312 rows x 2 columns]",
      "text/html": "<div>\n<style scoped>\n    .dataframe tbody tr th:only-of-type {\n        vertical-align: middle;\n    }\n\n    .dataframe tbody tr th {\n        vertical-align: top;\n    }\n\n    .dataframe thead th {\n        text-align: right;\n    }\n</style>\n<table border=\"1\" class=\"dataframe\">\n  <thead>\n    <tr style=\"text-align: right;\">\n      <th></th>\n      <th>JobTitle</th>\n      <th>quantity</th>\n    </tr>\n  </thead>\n  <tbody>\n    <tr>\n      <th>246</th>\n      <td>maintenance planner</td>\n      <td>100</td>\n    </tr>\n    <tr>\n      <th>247</th>\n      <td>principal accountant</td>\n      <td>99</td>\n    </tr>\n    <tr>\n      <th>248</th>\n      <td>senior engineer</td>\n      <td>99</td>\n    </tr>\n    <tr>\n      <th>249</th>\n      <td>watershed keeper</td>\n      <td>98</td>\n    </tr>\n    <tr>\n      <th>250</th>\n      <td>manager vii</td>\n      <td>98</td>\n    </tr>\n    <tr>\n      <th>...</th>\n      <td>...</td>\n      <td>...</td>\n    </tr>\n    <tr>\n      <th>1553</th>\n      <td>secretary human services commission</td>\n      <td>1</td>\n    </tr>\n    <tr>\n      <th>1554</th>\n      <td>secretary to the presiding judge</td>\n      <td>1</td>\n    </tr>\n    <tr>\n      <th>1555</th>\n      <td>secretaryjuvenile probation commission</td>\n      <td>1</td>\n    </tr>\n    <tr>\n      <th>1556</th>\n      <td>captain bureau of fire prevention and public safe</td>\n      <td>1</td>\n    </tr>\n    <tr>\n      <th>1557</th>\n      <td>zoo curator</td>\n      <td>1</td>\n    </tr>\n  </tbody>\n</table>\n<p>1312 rows × 2 columns</p>\n</div>"
     },
     "execution_count": 14,
     "metadata": {},
     "output_type": "execute_result"
    }
   ],
   "source": [
    "df_job_title[df_job_title.quantity <= 100]"
   ],
   "metadata": {
    "collapsed": false,
    "pycharm": {
     "name": "#%%\n"
    }
   }
  },
  {
   "cell_type": "code",
   "execution_count": 25,
   "outputs": [],
   "source": [
    "job_title_words = []\n"
   ],
   "metadata": {
    "collapsed": false,
    "pycharm": {
     "name": "#%%\n"
    }
   }
  },
  {
   "cell_type": "code",
   "execution_count": 27,
   "outputs": [
    {
     "data": {
      "text/plain": "['transit',\n 'operator',\n 'special',\n 'nurse',\n 'registered',\n 'nurse',\n 'police',\n 'officer',\n '',\n 'custodian',\n 'firefighter',\n 'recreation',\n 'leader',\n 'deputy',\n 'sheriff',\n 'public',\n 'svc',\n 'aidepublic',\n 'works',\n 'patient',\n 'care',\n 'assistant',\n 'public',\n 'service',\n 'trainee',\n 'attorney',\n 'civilcriminal',\n 'police',\n 'officer',\n 'porter',\n 'general',\n 'laborer',\n 'gardener',\n 'sergeant',\n '',\n 'parking',\n 'control',\n 'officer',\n 'library',\n 'page',\n 'health',\n 'worker',\n '',\n 'senior',\n 'clerk',\n 'senior',\n 'clerk',\n 'typist',\n 'clerk',\n 'eligibility',\n 'worker',\n 'emtparamedicfirefighter',\n 'licensed',\n 'vocational',\n 'nurse',\n 'stationary',\n 'engineer',\n 'nurse',\n 'practitioner',\n 'senior',\n 'eligibility',\n 'worker',\n 'protective',\n 'services',\n 'worker',\n 'museum',\n 'guard',\n 'transit',\n 'supervisor',\n 'senior',\n 'administrative',\n 'analyst',\n 'police',\n 'officer',\n 'iii',\n 'medical',\n 'evaluations',\n 'assistant',\n 'librarian',\n '',\n 'junior',\n 'clerk',\n 'school',\n 'crossing',\n 'guard',\n 'truck',\n 'driver',\n 'food',\n 'service',\n 'worker',\n 'electrical',\n 'transit',\n 'system',\n 'mech',\n 'engineer',\n 'ps',\n 'aide',\n 'to',\n 'prof',\n 'stdntdsgntrain',\n 'archengplng',\n 'senior',\n 'account',\n 'clerk',\n 'publ',\n 'svc',\n 'aideasst',\n 'to',\n 'prof',\n 'lieutenant',\n 'fire',\n 'suppression',\n 'manager',\n 'iii',\n 'automotive',\n 'mechanic',\n 'mental',\n 'health',\n 'rehabilitation',\n 'worker',\n 'community',\n 'police',\n 'services',\n 'aide',\n 'public',\n 'service',\n 'aidespecial',\n 'programs',\n 'physician',\n 'specialist',\n 'senior',\n 'physician',\n 'specialist',\n 'nursing',\n 'assistant',\n 'manager',\n 'ii',\n 'deputy',\n 'probation',\n 'officer',\n 'pr',\n 'administrative',\n 'analyst',\n 'manager',\n 'i',\n 'assoc',\n 'engineer',\n 'psychiatric',\n 'social',\n 'worker',\n 'clerk',\n 'typist',\n 'public',\n 'safetycomm',\n 'disp',\n 'painter',\n 'police',\n 'officer',\n 'i',\n 'hsa',\n 'sr',\n 'eligibility',\n 'worker',\n 'counselor',\n 'juvenile',\n 'hall',\n 'administrative',\n 'analyst',\n 'asst',\n 'engr',\n 'stationary',\n 'eng',\n 'sewage',\n 'plant',\n 'principal',\n 'clerk',\n 'automotive',\n 'service',\n 'worker',\n 'deputy',\n 'court',\n 'clerk',\n 'ii',\n 'manager',\n 'iv',\n 'electronic',\n 'maintenance',\n 'tech',\n 'executive',\n 'secretary',\n '',\n 'senior',\n 'personnel',\n 'analyst',\n 'electrician',\n 'planner',\n '',\n 'library',\n 'assistant',\n 'medical',\n 'social',\n 'worker',\n 'secretary',\n '',\n 'pool',\n 'lifeguard',\n 'senior',\n 'social',\n 'worker',\n 'police',\n 'officer',\n 'ii',\n 'account',\n 'clerk',\n 'transit',\n 'car',\n 'cleaner',\n 'nurse',\n 'manager',\n 'senior',\n 'deputy',\n 'sheriff',\n 'manager',\n 'v',\n 'library',\n 'technical',\n 'assistant',\n '',\n 'inspector',\n '',\n 'ps',\n 'aide',\n 'health',\n 'services',\n 'lieutenant',\n '',\n 'management',\n 'assistant',\n 'personnel',\n 'analyst',\n 'deputy',\n 'court',\n 'clerk',\n 'iii',\n 'carpenter',\n 'fire',\n 'fighter',\n 'paramedic',\n 'unit',\n 'clerk',\n 'sergeant',\n 'iii',\n 'police',\n 'department',\n 'is',\n 'business',\n 'analystprincipal',\n 'engarchlandscape',\n 'arch',\n 'sr',\n 'captain',\n 'fire',\n 'suppression',\n 'automotive',\n 'machinist',\n 'accountant',\n 'iii',\n 'program',\n 'specialist',\n 'is',\n 'engineersenior',\n 'health',\n 'program',\n 'coordinator',\n '',\n 'pharmacy',\n 'technician',\n 'plumber',\n 'junior',\n 'engineer',\n 'manager',\n 'vi',\n 'hospital',\n 'eligiblity',\n 'worker',\n 'construction',\n 'inspector',\n 'is',\n 'business',\n 'analystsenior',\n 'sheriffs',\n 'cadet',\n 'employment',\n '',\n 'training',\n 'spec',\n '',\n 'marriage',\n 'family',\n '',\n 'child',\n 'cnslr',\n 'recreation',\n 'coordinator',\n 'eligibility',\n 'worker',\n 'supervisor',\n 'junior',\n 'administrative',\n 'analyst',\n 'utility',\n 'plumber',\n 'payroll',\n 'clerk',\n 'bdcomm',\n 'mbr',\n 'grpmmtg',\n 'student',\n 'design',\n 'trainee',\n 'arcengplng',\n 'public',\n 'health',\n 'nurse',\n 'child',\n 'support',\n 'officer',\n 'ii',\n 'accountant',\n 'ii',\n 'building',\n 'inspector',\n 'legal',\n 'secretary',\n '',\n 'custodial',\n 'assistant',\n 'supervisor',\n 'pharmacist',\n 'physical',\n 'therapist',\n 'social',\n 'worker',\n 'health',\n 'care',\n 'billing',\n 'clerk',\n '',\n 'camp',\n 'assistant',\n 'sheriffs',\n 'sergeant',\n 'medical',\n 'records',\n 'clerk',\n 'utility',\n 'specialist',\n 'customer',\n 'service',\n 'agent',\n 'electrical',\n 'transit',\n 'system',\n 'mechanic',\n 'is',\n 'business',\n 'analyst',\n 'clinical',\n 'psychologist',\n 'testing',\n 'technician',\n 'transit',\n 'fare',\n 'inspector',\n 'occupational',\n 'therapist',\n 'sr',\n 'payroll',\n '',\n 'personnel',\n 'clerk',\n 'senior',\n 'management',\n 'assistant',\n 'home',\n 'health',\n 'aide',\n 'communications',\n 'dispatcher',\n '',\n 'is',\n 'project',\n 'director',\n 'swimming',\n 'instructor',\n 'is',\n 'administrator',\n '',\n 'senior',\n 'legal',\n 'process',\n 'clerk',\n 'stdntdsgn',\n 'trainarchengplng',\n 'airport',\n 'police',\n 'services',\n 'aide',\n 'librarian',\n 'i',\n 'public',\n 'service',\n 'aideassociate',\n 'to',\n 'professionals',\n 'engineering',\n 'associate',\n '',\n 'housekeeperfood',\n 'service',\n 'clnr',\n 'nursing',\n 'supervisor',\n 'senior',\n 'water',\n 'services',\n 'clerk',\n 'maintenance',\n 'machinist',\n 'operating',\n 'engineer',\n 'universal',\n 'fare',\n 'collections',\n 'receiver',\n 'accountant',\n 'iv',\n 'clinical',\n 'pharmacist',\n 'lieutenant',\n 'fire',\n 'department',\n 'airport',\n 'safety',\n 'officer',\n 'court',\n 'reporter',\n 'bdcomm',\n 'mbr',\n 'grpmmo',\n 'station',\n 'agent',\n 'muni',\n 'railway',\n 'medical',\n 'records',\n 'technician',\n 'admission',\n 'attendant',\n 'senior',\n 'collections',\n 'officer',\n 'inspector',\n 'iii',\n 'police',\n 'department',\n 'legislative',\n 'assistant',\n 'public',\n 'safety',\n 'communications',\n 'dispatcher',\n 'project',\n 'manager',\n '',\n 'stationary',\n 'engineer',\n 'sewage',\n 'plant',\n 'diagnostic',\n 'imaging',\n 'tech',\n 'i',\n 'is',\n 'engineerjourney',\n 'protective',\n 'services',\n 'supervisor',\n 'is',\n 'engineerprincipal',\n 'superior',\n 'court',\n 'judge',\n 'bldg',\n '',\n 'grounds',\n 'patrol',\n 'officer',\n 'principal',\n 'account',\n 'clerk',\n 'public',\n 'service',\n 'aideassistant',\n 'to',\n 'professionals',\n 'senior',\n 'personnel',\n 'clerk',\n 'psychiatric',\n 'technician',\n 'environmental',\n 'service',\n 'worker',\n 'associate',\n 'engineer',\n 'health',\n 'worker',\n 'iii',\n 'sr',\n 'community',\n 'devl',\n 'spc',\n '',\n 'human',\n 'services',\n 'technician',\n 'assistant',\n 'engineer',\n 'principal',\n 'administrative',\n 'analyst',\n 'storekeeper',\n 'parts',\n 'storekeeper',\n 'junior',\n 'management',\n 'assistant',\n 'cement',\n 'mason',\n 'contract',\n 'compliance',\n 'officer',\n '',\n 'emp',\n '',\n 'training',\n 'spec',\n '',\n 'senior',\n 'stationary',\n 'engineer',\n 'hsa',\n 'social',\n 'worker',\n 'hospital',\n 'eligibility',\n 'worker',\n 'sheriffs',\n 'lieutenant',\n 'public',\n 'service',\n 'aidehealth',\n 'services',\n 'statnry',\n 'eng',\n 'water',\n 'treat',\n 'plant',\n 'park',\n 'section',\n 'supervisor',\n 'general',\n 'laborer',\n 'supervisor',\n '',\n 'it',\n 'operations',\n 'support',\n 'admn',\n 'iii',\n 'commissioner',\n 'no',\n 'benefits',\n 'electronic',\n 'maintenance',\n 'technician',\n 'cashier',\n '',\n 'head',\n 'atty',\n 'civil',\n '',\n 'criminal',\n 'cook',\n 'track',\n 'maintenance',\n 'worker',\n 'health',\n 'worker',\n 'ii',\n 'real',\n 'property',\n 'appraiser',\n 'senior',\n 'parking',\n 'control',\n 'officer',\n 'xray',\n 'laboratory',\n 'aide',\n 'sheet',\n 'metal',\n 'worker',\n 'diagnostic',\n 'imaging',\n 'tech',\n 'ii',\n 'senior',\n 'telephone',\n 'operator',\n 'victimwitness',\n 'investigator',\n '',\n 'legal',\n 'assistant',\n 'planner',\n 'environmental',\n 'review',\n 'social',\n 'work',\n 'specialist',\n 'secretary',\n 'ii',\n 'swimming',\n 'instructorpool',\n 'lifeguard',\n 'sewer',\n 'service',\n 'worker',\n 'sr',\n 'stationary',\n 'eng',\n 'sew',\n 'plant',\n 'watershed',\n 'worker',\n 'seasonal',\n 'dep',\n 'dir',\n 'iii',\n 'security',\n 'guard',\n 'water',\n 'service',\n 'inspector',\n 'utility',\n 'plumber',\n 'supervisor',\n '',\n 'accountant',\n 'intern',\n 'automotive',\n 'body',\n '',\n 'fender',\n 'wrk',\n 'elections',\n 'clerk',\n 'it',\n 'operations',\n 'support',\n 'admin',\n 'iv',\n 'sr',\n 'environmental',\n 'hlth',\n 'insp',\n 'sign',\n 'worker',\n 'captain',\n '',\n 'maintenance',\n 'planner',\n 'principal',\n 'accountant',\n 'senior',\n 'engineer',\n 'watershed',\n 'keeper',\n 'manager',\n 'vii',\n 'lieutenant',\n 'iii',\n 'police',\n 'department',\n 'manager',\n 'viii',\n 'nutritionist',\n 'benefits',\n 'technician',\n 'estate',\n 'investigator',\n 'da',\n 'investigative',\n 'assist',\n 'workers',\n 'compensation',\n 'adjuster',\n 'assistant',\n 'purchaser',\n 'clinical',\n 'nurse',\n 'specialist',\n 'dep',\n 'dir',\n 'ii',\n 'electrical',\n 'inspector',\n 'claims',\n 'investigator',\n 'ca',\n 'park',\n 'patrol',\n 'officer',\n 'counselor',\n 'log',\n 'cabin',\n 'ranch',\n 'chemist',\n 'iii',\n 'assistant',\n 'retirement',\n 'analyst',\n 'anesthetist',\n 'architectural',\n 'associate',\n '',\n 'electrical',\n 'line',\n 'helper',\n 'environmental',\n 'assistant',\n 'assistant',\n 'chief',\n 'attorney',\n '',\n 'permit',\n 'and',\n 'citation',\n 'clerk',\n 'central',\n 'processing',\n '',\n 'dist',\n 'tech',\n 'stage',\n 'electrician',\n 'apprentice',\n 'gardener',\n 'biologist',\n 'iii',\n 'dietitian',\n 'engineerarchitect',\n 'principal',\n 'parking',\n 'meter',\n 'repairer',\n 'is',\n 'business',\n 'analyst',\n '',\n 'principal',\n 'cable',\n 'splicer',\n 'street',\n 'inspector',\n 'is',\n 'engineer',\n '',\n 'senior',\n 'airport',\n 'communications',\n 'disp',\n 'epidemiologist',\n '',\n 'environmental',\n 'health',\n 'inspector',\n 'asphalt',\n 'worker',\n 'architectural',\n 'assistant',\n '',\n 'senior',\n 'food',\n 'service',\n 'worker',\n 'sr',\n 'community',\n 'dev',\n 'spec',\n '',\n 'training',\n 'officer',\n 'fingerprint',\n 'technician',\n '',\n 'sr',\n 'psychiatric',\n 'social',\n 'worker',\n 'public',\n 'relations',\n 'officer',\n 'physician',\n 'assistant',\n 'personnel',\n 'clerk',\n 'assistant',\n 'storekeeper',\n 'housing',\n 'inspector',\n 'marriage',\n 'family',\n '',\n 'child',\n 'counselor',\n 'mfcc',\n 'is',\n 'programmer',\n 'analystsenior',\n 'institution',\n 'utility',\n 'worker',\n 'program',\n 'support',\n 'analyst',\n 'library',\n 'technical',\n 'assistant',\n 'i',\n 'deputy',\n 'sheriff',\n '',\n 'nurses',\n 'staffing',\n 'assistant',\n 'is',\n 'administrator',\n 'ii',\n 'traffic',\n 'signal',\n 'electrician',\n 'is',\n 'business',\n 'analyst',\n '',\n 'senior',\n 'social',\n 'work',\n 'supervisor',\n 'manager',\n 'iv',\n 'mta',\n 'captain',\n 'emergency',\n 'med',\n 'svcs',\n 'transit',\n 'power',\n 'line',\n 'worker',\n 'manager',\n 'ii',\n 'mta',\n 'arborist',\n 'technician',\n 'dep',\n 'dir',\n 'iv',\n 'insp',\n 'fire',\n 'dept',\n 'recreation',\n 'specialist',\n 'legal',\n 'process',\n 'clerk',\n 'personal',\n 'property',\n 'auditor',\n 'utility',\n 'analyst',\n 'public',\n 'safetycomm',\n 'supv',\n 'senior',\n 'customer',\n 'service',\n 'agent',\n 'health',\n 'care',\n 'analyst',\n 'nurse',\n 'midwife',\n 'dental',\n 'aide',\n 'curator',\n '',\n 'communications',\n 'systems',\n 'tech',\n 'special',\n 'examiner',\n 'car',\n 'and',\n 'auto',\n 'painter',\n 'water',\n 'qualitytech',\n 'iii',\n 'electrl',\n 'trnst',\n 'mech',\n 'asst',\n 'sprv',\n 'it',\n 'operations',\n 'support',\n 'admin',\n 'ii',\n 'window',\n 'cleaner',\n 'airport',\n 'electrician',\n 'executive',\n 'secretary',\n 'i',\n 'train',\n 'controller',\n 'dentist',\n 'plumbing',\n 'inspector',\n 'executive',\n 'secretary',\n 'ii',\n 'battalion',\n 'chief',\n 'fire',\n 'suppress',\n 'criminalist',\n 'ii',\n 'senior',\n 'accountant',\n 'surgical',\n 'procedures',\n 'technician',\n 'health',\n 'worker',\n 'i',\n 'senior',\n 'payroll',\n 'and',\n 'personnel',\n 'clerk',\n 'steamfitter',\n 'assessment',\n 'clerk',\n 'health',\n 'educator',\n 'environmental',\n 'spec',\n 'museum',\n 'preparator',\n 'health',\n 'care',\n 'billing',\n 'clerk',\n 'ii',\n 'patient',\n 'accounts',\n 'clerk',\n 'sr',\n 'environmental',\n 'spec',\n 'landscape',\n 'architect',\n 'assoc',\n '',\n 'public',\n 'health',\n 'team',\n 'leader',\n 'chief',\n 'clerk',\n 'animal',\n 'care',\n 'attendant',\n 'prnpl',\n ...]"
     },
     "execution_count": 27,
     "metadata": {},
     "output_type": "execute_result"
    }
   ],
   "source": [
    "for i in df_job_title.JobTitle.apply(lambda x: str(x).split(sep=' ')).to_list():\n",
    "    for k in i:\n",
    "        job_title_words.append(k)\n",
    "job_title_words\n"
   ],
   "metadata": {
    "collapsed": false,
    "pycharm": {
     "name": "#%%\n"
    }
   }
  },
  {
   "cell_type": "code",
   "execution_count": 31,
   "outputs": [
    {
     "data": {
      "text/plain": "['',\n 'supervisor',\n 'assistant',\n 'senior',\n 'i',\n 'ii',\n 'technician',\n 'manager',\n 'worker',\n 'specialist',\n 'clerk',\n 'court',\n 'sprv',\n 'is',\n 'chief',\n 'iii',\n 'inspector',\n 'officer',\n 'and',\n 'asst',\n 'analyst',\n 'investigator',\n 'services',\n 'of',\n 'director',\n 'transit',\n 'public',\n 'health',\n 'engineer',\n 'department',\n 'sr',\n 'service',\n 'police',\n 'deputy',\n 'principal',\n 'maintenance',\n 'fire',\n 'secretary',\n 'tech',\n 'coordinator',\n 'water',\n 'airport',\n 'medical',\n 'planner',\n 'property',\n 'staff',\n 'power',\n 'iv',\n 'communications',\n 'svcs',\n 'associate',\n 'supervising',\n 'plant',\n 'probation',\n 'attorney',\n 'operator',\n 'supv',\n 'line',\n 'dept',\n 'counselor',\n 'dir',\n 'automotive',\n 'stationary',\n 'administrator',\n 'administrative',\n 'spec',\n 'head',\n 'to',\n 'transportation',\n 'electrical',\n 'mechanic',\n 'personnel',\n 'environmental',\n 'municipal',\n 'training',\n 'sfers',\n 'aide',\n 'electrician',\n 'chf',\n 'operations',\n 'mayoral',\n 'relations',\n 'admin',\n 'v',\n 'mgr',\n 'museum',\n 'commission',\n 'emergency',\n 'human',\n 'comm',\n 'program',\n 'shop',\n 'utility',\n 'real',\n 'coord',\n 'social',\n 'care',\n 'district',\n 'auditor',\n 'safety',\n 'support',\n 'recreation',\n 'ofc',\n 'office',\n 'community',\n 'city',\n 'laboratory',\n 'the',\n 'wrk',\n 'agency',\n 'treatment',\n 'mta',\n 'juvenile',\n 'executive',\n 'lieutenant',\n 'machinist',\n 'maint',\n 'atty',\n 'general',\n 'special',\n 'prob',\n 'architectural',\n 'repairer',\n 'attorneys',\n 'superintendent',\n 'street',\n 'accountant',\n 'fare',\n 'traffic',\n 'employee',\n 'port',\n 'plumber',\n 'civil',\n 'systems',\n 'payroll',\n 'nurse',\n 'sheriff',\n 'materials',\n 'electronic',\n 'pr',\n 'animal',\n 'board',\n 'eng',\n 'equipment',\n 'hall',\n 'grounds',\n 'dispatcher',\n 'media',\n 'med',\n 'building',\n 'dep',\n 'parking',\n 'patient',\n 'business',\n 'captain',\n 'project',\n 'clinical',\n 'claims',\n 'control',\n 'librarian',\n 'typist',\n 'examiner',\n 'shelter',\n 'eligibility',\n 'superior',\n 'programmer',\n 'family',\n 'sewage',\n 'storekeeper',\n 'victimwitness',\n 'representative',\n 'sergeant',\n 'agent',\n 'employment',\n 'adult',\n 'criminal',\n 'forensic',\n 'legal',\n 'child',\n 'collections',\n 'juv',\n 'asphalt',\n 'library',\n 'cable',\n 'engineering',\n 'invstgtor',\n 'controller',\n 'metal',\n 'research',\n 'meter',\n 'information',\n 'apprentice',\n 'examiners',\n 'computer',\n 'industrial',\n 'psychiatric',\n 'cleaner',\n 'attendant',\n 'patrol',\n 'finisher',\n 'supt',\n 'food',\n 'generation',\n 'development',\n 'curator',\n 'personal',\n 'receiver',\n 'repair',\n 'cement',\n 'permit',\n 'equip',\n 'benefits',\n 'toxicologist',\n 'sup',\n 'watershed',\n 'citation',\n 'hearing',\n 'sheriffs',\n 'ex',\n 'physician',\n 'auto',\n 'svc',\n 'track',\n 'survey',\n 'dist',\n 'signal',\n 'hygienist',\n 'trainee',\n 'painter',\n 'facilities',\n 'group',\n 'member',\n 'fiscal',\n 'junior',\n 'legislative',\n 'sctry',\n 'ct',\n 'sheet',\n 'trnst',\n 'therapist',\n 'appraiser',\n 'div',\n 'cabin',\n 'commissioner',\n 'bureau',\n 'hospital',\n 'transcriber',\n 'accounts',\n 'it',\n 'resources',\n 'production',\n 'comp',\n 'customer',\n 'planning',\n 'vii',\n 'arts',\n 'hlth',\n 'collector',\n 'porter',\n 'helper',\n 'heavy',\n 'performance',\n 'parts',\n 'physical',\n 'wire',\n 'house',\n 'mech',\n 'landscape',\n 'log',\n 'keeper',\n 'therapy',\n 'diagnostic',\n 'management',\n 'journey',\n 'marriage',\n 'car',\n 'weights',\n 'carpenter',\n 'mechanical',\n 'imaging',\n 'mediasecurity',\n 'boardcommission',\n 'cashier',\n 'mental',\n 'bldg',\n 'biologist',\n 'tax',\n 'chemist',\n 'citizen',\n 'swimming',\n 'insp',\n 'supervisors',\n 'body',\n 'fender',\n 'security',\n 'fingerprint',\n 'records',\n 'rope',\n 'rights',\n 'emp',\n 'railway',\n 'purchaser',\n 'vi',\n 'preparator',\n 'environment',\n 'sfgh',\n 'statnry',\n 'rehabilitation',\n 'construction',\n 'contract',\n 'psychologist',\n 'instructor',\n 'nursing',\n 'account',\n 'wastewater',\n 'welfare',\n 'estate',\n 'criminalist',\n 'institutional',\n 'sys',\n 'review',\n 'ranch',\n 'on',\n 'inspection',\n 'rail',\n 'roofer',\n 'soft',\n 'technologist',\n 'educator',\n 'motor',\n 'marina',\n 'rep',\n 'electric',\n 'mbr',\n 'measures',\n 'wharfinger',\n 'technical',\n 'environ',\n 'tree',\n 'reporter',\n 'welder',\n 'steamfitter',\n 'disp',\n 'center',\n 'registrar',\n 'epidemiologist',\n 'billing',\n 'janitorial',\n 'microbiologist',\n 'microphotoimaging',\n 'central',\n 'bdcomm',\n 'retirement',\n 'room',\n 'cfdntal',\n 'checker',\n 'confidential',\n 'main',\n 'sew',\n 'laborer',\n 'affairs',\n 'topper',\n 'pharmacy',\n 'light',\n 'lifeguard',\n 'viii',\n 'piledriver',\n 'testing',\n 'asian',\n 'processing',\n 'process',\n 'probate',\n 'guard',\n 'glazier',\n 'plumbing',\n 'architect',\n 'supplies',\n 'communication',\n 'floor',\n 'prevention',\n 'arborist',\n 'division',\n 'fraud',\n 'forester',\n 'telephone',\n 'pharmacist',\n 'iron',\n 'compliance',\n 'hsa',\n 'fac',\n 'housing',\n 'ornamental',\n 'quality',\n 'locksmith',\n 'park',\n 'facility',\n 'sewer',\n 'assoc',\n 'distribution',\n 'station',\n 'transmission',\n 'protective',\n 'defenders',\n 'coverer',\n 'workers',\n 'trainer',\n 'work',\n 'orthopedic',\n 'undersheriff',\n 'judge',\n 'cook',\n 'law',\n 'justice',\n 'crime',\n 'vehicle',\n 'lab',\n 'enforcement',\n 'crane',\n 'for',\n 'electr',\n 'finance',\n 'complaint',\n 'field',\n 'electroencephalograph',\n 'unified',\n 'compensation',\n 'custodial',\n 'commander',\n 'housekeeperfood',\n 'graphics',\n 'commercial',\n 'fixture',\n 'leader',\n 'trans',\n 'gardener',\n 'cnslr',\n 'traf',\n 'dietitian',\n 'interpreter',\n 'involvement',\n 'investments',\n 'dental',\n 'elections',\n 'investigative',\n 'treat',\n 'intern',\n 'in',\n 'const',\n 'conservatorshipcase',\n 'eeo',\n 'volunteeroutreach',\n 'conservation',\n 'unit',\n 'citizens',\n 'splicer',\n 'designer',\n 'analystprincipal',\n 'paramedic',\n 'xvi',\n 'paint',\n 'stores',\n 'reproduction',\n 'ops',\n 'status',\n 'adlt',\n 'adjuster',\n 'women',\n 'prof',\n 'professionals',\n 'programming',\n 'action',\n 'programs',\n 'operating',\n 'offset',\n 'supply',\n 'repres',\n 'app',\n 'parks',\n 'applications',\n 'suppression',\n 'area',\n 'art',\n 'rnch',\n 'xv',\n 'assessment',\n 'aquatics',\n 'photographer',\n 'pest',\n 'aging',\n 'prev',\n 'affirmative',\n 'advisor',\n 'safetycomm',\n 'assistance',\n 'scheduler',\n 'wtr',\n 'practitioner',\n 'sealer',\n 'occupational',\n 'analystsenior',\n 'analystassistant',\n 'spc',\n 'boats',\n 'shops',\n 'alarm',\n 'book',\n 'xiv',\n 'access',\n 'radiologic',\n 'mason',\n 'squares',\n 'marketing',\n 'market',\n 'maritime',\n 'buildings',\n 'abatement',\n 'mail',\n 'telecommunications',\n 'machine',\n 'lighting',\n 'youth',\n 'window',\n 'alternative',\n 'mfcc',\n 'ps',\n 'nursery',\n 'sign',\n 'battalion',\n 'noise',\n 'no',\n 'musm',\n 'signs',\n 'muni',\n 'system',\n 'plnt',\n 'mgmt',\n 'mobile',\n 'stadium',\n 'morgue',\n 'cont',\n 'aideasst',\n 'agenc',\n 'aideadministrative',\n 'constmain',\n 'xray',\n 'aideassistant',\n 'conversion',\n 'aideadmin',\n 'victim',\n 'agricultural',\n 'aideassociate',\n 'xvii',\n 'veterniary',\n 'veterinarian',\n 'da',\n 'data',\n 'defender',\n 'act',\n 'acpojuvp',\n 'delay',\n 'xxii',\n 'accesssvcs',\n 'dentist',\n 'ventilating',\n 'vendor',\n 'departmentfire',\n 'depty',\n 'aam',\n 'veh',\n 'cvlcrmnl',\n 'custodian',\n 'activities',\n 'admission',\n 'counselorlog',\n 'vet',\n 'age',\n 'ag',\n 'crafts',\n 'admn',\n 'administratorsupervisor',\n 'acupuncturist',\n 'crossing',\n 'crt',\n 'admini',\n 'xviii',\n 'adm',\n 'ad',\n 'aidehealth',\n 'calendar',\n 'conservator',\n 'attendent',\n 'bacteriological',\n 'autopsy',\n 'warehouse',\n 'authority',\n 'witness',\n 'civilcriminal',\n 'volunteer',\n 'audiometrist',\n 'cld',\n 'audiologist',\n 'attys',\n 'attrys',\n 'vol',\n 'clincal',\n 'vocational',\n 'baker',\n 'barber',\n 'chef',\n 'brd',\n 'cadet',\n 'ca',\n 'c',\n 'bur',\n 'captfire',\n 'bricklayer',\n 'braillist',\n 'battlion',\n 'bodyfender',\n 'design',\n 'case',\n 'bldgs',\n 'cent',\n 'beautician',\n 'clk',\n 'asstsr',\n 'aidepublic',\n 'asstdepdir',\n 'arch',\n 'arcengplng',\n 'victimwit',\n 'camp',\n 'aprntc',\n 'anl',\n 'xi',\n 'anesthetist',\n 'xii',\n 'anaylst',\n 'complaints',\n 'xiii',\n 'airports',\n 'aidetechnical',\n 'aidespecial',\n 'archengplng',\n 'x',\n 'artist',\n 'cnselor',\n 'works',\n 'clm',\n 'clnr',\n 'wrkr',\n 'cmplnts',\n 'assistnat',\n 'assist',\n 'asr',\n 'assessorrecorder',\n 'cnsrvt',\n 'collection',\n 'assessor',\n 'com',\n 'asroffice',\n 'aprntcstatnry',\n 'hh',\n 'dev',\n 'suppressi',\n 'supvr',\n 'pattern',\n 'pay',\n 'per',\n 'perf',\n 'performing',\n 'personnelpayroll',\n 'pianist',\n 'pile',\n 'pilot',\n 'pipe',\n 'plan',\n 'plans',\n 'surgical',\n 'suppress',\n 'pln',\n 'pltncn',\n 'pol',\n 'poll',\n 'pool',\n 'supinvst',\n 'pou',\n 'powerhouse',\n 'supervisorinvestigator',\n 'prdainvestspecunit',\n 'presiding',\n 'pathologist',\n 'paralegal',\n 'supervis',\n 'occ',\n 'meeting',\n 'metalsmith',\n 'mgnt',\n 'team',\n 'mgt',\n 'midwife',\n 'mmtg',\n 'taxi',\n 'not',\n 'syst',\n 'nurses',\n 'nutritionist',\n 'switch',\n 'page',\n 'ofcr',\n 'officerjuvenile',\n 'surveyor',\n 'operatoranalyst',\n 'operatorjourney',\n 'operatorsenior',\n 'opers',\n 'oprs',\n 'or',\n 'orderly',\n 'orders',\n 'packer',\n 'prg',\n 'prnpl',\n 'devl',\n 'statistician',\n 'safe',\n 'stdntdsgntrain',\n 'school',\n 'scty',\n 'se',\n 'seasonal',\n 'sec',\n 'stdntdsgn',\n 'secretaryjuvenile',\n 'section',\n 'sen',\n 'serv',\n 'setter',\n 's',\n 'settlmnt',\n 'sfmta',\n 'shade',\n 'stage',\n 'shift',\n 'staffing',\n 'snr',\n 'southeast',\n 'stable',\n 'srclaimsinvstgtorcty',\n 'specialists',\n 'specialst',\n 'sa',\n 'rs',\n 'supervi',\n 'reader',\n 'superv',\n 'proc',\n 'procedures',\n 'superintendentmunicipal',\n 'protection',\n 'provided',\n 'prpl',\n 'pub',\n 'publ',\n 'student',\n 'qualitytech',\n 'radio',\n 'structural',\n 'retire',\n 'rec',\n 'reduction',\n 'registered',\n 'regulatory',\n 'rent',\n 'rental',\n 'repr',\n 'representat',\n 'rescue',\n 'resolution',\n 'respiratory',\n 'ret',\n 'technic',\n 'mediator',\n 'technicaljourney',\n 'exhibit',\n 'engineerjourney',\n 'engineerprincipal',\n 'engineersenior',\n 'engineerwater',\n 'engr',\n 'engwtrtreat',\n 'engwtrtreatplnt',\n 'entry',\n 'estimator',\n 'evaluations',\n 'events',\n 'treasurer',\n 'fabricator',\n 'engineerarchitect',\n 'fam',\n 'farmer',\n 'feasibility',\n 'fighter',\n 'firefighter',\n 'forestry',\n 'fusion',\n 'gen',\n 'government',\n 'govrnmtpubl',\n 'graphic',\n 'trainersenior',\n 'engineerassistant',\n 'trial',\n 'technican',\n 'drug',\n 'devt',\n 'dietetic',\n 'urban',\n 'universal',\n 'disability',\n 'disease',\n 'distatty',\n 'distric',\n 'document',\n 'dph',\n 'drapery',\n 'driver',\n 'duty',\n 'engine',\n 'economic',\n 'ufcs',\n 'electrl',\n 'elevator',\n 'elig',\n 'eligiblity',\n 'emerg',\n 'truck',\n 'emergencycy',\n 'emtparamedicfirefighter',\n 'trnsp',\n 'engarchlandscape',\n 'groundskeeper',\n 'groundskpr',\n 'grpmmo',\n 'lieutfire',\n 'investigatortaxi',\n 'investigatortransit',\n 'investment',\n 'invsgtn',\n 'invstgtorfire',\n 'invstgtorspecunit',\n 'tile',\n 'ivenvironmental',\n 'ix',\n 'laundry',\n 'legislation',\n 'licensed',\n 'technology',\n 'grpmmtg',\n 'maker',\n 'technicianwtr',\n 'manageremployee',\n 'managermetropolitan',\n 'managing',\n 'marine',\n 'techniciansupervisor',\n 'materialssupplies',\n 'mayor',\n 'techniciansenior',\n 'mayors',\n 'meas',\n 'investigatoriii',\n 'investigatorcity',\n 'investigation',\n 'investadmin',\n 'trainerjourney',\n 'trainerassistant',\n 'heating',\n 'heatingventilating',\n 'speech',\n 'hodcarrier',\n 'home',\n 'trainarchengplng',\n 'train',\n 'iiienvironmental',\n 'illustrator',\n 'incident',\n 'info',\n 'injury',\n 'inpsector',\n 'inspections',\n 'institution',\n 'instrmntn',\n 'instrpool',\n 'instructional',\n 'instructorpool',\n 'instrumentation',\n 'integrated',\n 'inventory',\n 'invest',\n 'zoo']"
     },
     "execution_count": 31,
     "metadata": {},
     "output_type": "execute_result"
    }
   ],
   "source": [
    "df_job_title_words = pd.DataFrame(job_title_words, columns=['words'])\n",
    "df_job_title_words = pd.DataFrame((df_job_title_words.groupby(by='words')['words'].count()).sort_values(ascending=False))\n",
    "df_job_title_words = df_job_title_words.rename(columns={'words':'quantity'}).reset_index()\n",
    "df_job_title_words\n",
    "df_job_title_words['words'].to_list()"
   ],
   "metadata": {
    "collapsed": false,
    "pycharm": {
     "name": "#%%\n"
    }
   }
  },
  {
   "cell_type": "code",
   "execution_count": 144,
   "outputs": [
    {
     "data": {
      "text/plain": "               words  quantity\n0         supervisor       155\n1          assistant       119\n2             senior       112\n3         technician        62\n4            manager        62\n..               ...       ...\n863  instrumentation         1\n864       integrated         1\n865        inventory         1\n866           invest         1\n867              zoo         1\n\n[868 rows x 2 columns]",
      "text/html": "<div>\n<style scoped>\n    .dataframe tbody tr th:only-of-type {\n        vertical-align: middle;\n    }\n\n    .dataframe tbody tr th {\n        vertical-align: top;\n    }\n\n    .dataframe thead th {\n        text-align: right;\n    }\n</style>\n<table border=\"1\" class=\"dataframe\">\n  <thead>\n    <tr style=\"text-align: right;\">\n      <th></th>\n      <th>words</th>\n      <th>quantity</th>\n    </tr>\n  </thead>\n  <tbody>\n    <tr>\n      <th>0</th>\n      <td>supervisor</td>\n      <td>155</td>\n    </tr>\n    <tr>\n      <th>1</th>\n      <td>assistant</td>\n      <td>119</td>\n    </tr>\n    <tr>\n      <th>2</th>\n      <td>senior</td>\n      <td>112</td>\n    </tr>\n    <tr>\n      <th>3</th>\n      <td>technician</td>\n      <td>62</td>\n    </tr>\n    <tr>\n      <th>4</th>\n      <td>manager</td>\n      <td>62</td>\n    </tr>\n    <tr>\n      <th>...</th>\n      <td>...</td>\n      <td>...</td>\n    </tr>\n    <tr>\n      <th>863</th>\n      <td>instrumentation</td>\n      <td>1</td>\n    </tr>\n    <tr>\n      <th>864</th>\n      <td>integrated</td>\n      <td>1</td>\n    </tr>\n    <tr>\n      <th>865</th>\n      <td>inventory</td>\n      <td>1</td>\n    </tr>\n    <tr>\n      <th>866</th>\n      <td>invest</td>\n      <td>1</td>\n    </tr>\n    <tr>\n      <th>867</th>\n      <td>zoo</td>\n      <td>1</td>\n    </tr>\n  </tbody>\n</table>\n<p>868 rows × 2 columns</p>\n</div>"
     },
     "execution_count": 144,
     "metadata": {},
     "output_type": "execute_result"
    }
   ],
   "source": [
    "df_job_title_words['lenght_word'] = df_job_title_words['words'].apply(lambda x: len(str(x)))\n",
    "df_job_title_words = df_job_title_words[df_job_title_words['lenght_word'] > 2][['words', 'quantity']]\n",
    "df_job_title_words"
   ],
   "metadata": {
    "collapsed": false,
    "pycharm": {
     "name": "#%%\n"
    }
   }
  },
  {
   "cell_type": "code",
   "execution_count": 98,
   "outputs": [
    {
     "data": {
      "text/plain": "         quantity\ncount  868.000000\nmean     5.364055\nstd     10.965762\nmin      1.000000\n25%      1.000000\n50%      2.000000\n75%      5.000000\nmax    155.000000",
      "text/html": "<div>\n<style scoped>\n    .dataframe tbody tr th:only-of-type {\n        vertical-align: middle;\n    }\n\n    .dataframe tbody tr th {\n        vertical-align: top;\n    }\n\n    .dataframe thead th {\n        text-align: right;\n    }\n</style>\n<table border=\"1\" class=\"dataframe\">\n  <thead>\n    <tr style=\"text-align: right;\">\n      <th></th>\n      <th>quantity</th>\n    </tr>\n  </thead>\n  <tbody>\n    <tr>\n      <th>count</th>\n      <td>868.000000</td>\n    </tr>\n    <tr>\n      <th>mean</th>\n      <td>5.364055</td>\n    </tr>\n    <tr>\n      <th>std</th>\n      <td>10.965762</td>\n    </tr>\n    <tr>\n      <th>min</th>\n      <td>1.000000</td>\n    </tr>\n    <tr>\n      <th>25%</th>\n      <td>1.000000</td>\n    </tr>\n    <tr>\n      <th>50%</th>\n      <td>2.000000</td>\n    </tr>\n    <tr>\n      <th>75%</th>\n      <td>5.000000</td>\n    </tr>\n    <tr>\n      <th>max</th>\n      <td>155.000000</td>\n    </tr>\n  </tbody>\n</table>\n</div>"
     },
     "execution_count": 98,
     "metadata": {},
     "output_type": "execute_result"
    }
   ],
   "source": [
    "df_job_title_words = df_job_title_words.reset_index()[['words', 'quantity']]\n",
    "\n",
    "df_job_title_words.describe()"
   ],
   "metadata": {
    "collapsed": false,
    "pycharm": {
     "name": "#%%\n"
    }
   }
  },
  {
   "cell_type": "code",
   "execution_count": 100,
   "outputs": [
    {
     "data": {
      "text/plain": "             words  quantity\n0       supervisor       155\n1        assistant       119\n2           senior       112\n3       technician        62\n4          manager        62\n5           worker        54\n6       specialist        54\n7            clerk        52\n8            court        52\n9             sprv        52\n10           chief        50\n11             iii        49\n12       inspector        48\n13         officer        47\n14             and        46\n15            asst        45\n16         analyst        45\n17    investigator        42\n18        services        41\n19        director        36\n20         transit        35\n21          public        34\n22          health        34\n23        engineer        33\n24      department        33\n25         service        32\n26          police        31\n27          deputy        31\n28       principal        30\n29     maintenance        27\n30            fire        27\n31       secretary        26\n32            tech        24\n33     coordinator        24\n34           water        24\n35         airport        23\n36         medical        22\n37         planner        21\n38        property        20\n39           staff        20\n40           power        20\n41  communications        19\n42            svcs        18\n43       associate        18\n44     supervising        18\n45           plant        18\n46       probation        17\n47        attorney        17\n48        operator        17\n49            supv        17",
      "text/html": "<div>\n<style scoped>\n    .dataframe tbody tr th:only-of-type {\n        vertical-align: middle;\n    }\n\n    .dataframe tbody tr th {\n        vertical-align: top;\n    }\n\n    .dataframe thead th {\n        text-align: right;\n    }\n</style>\n<table border=\"1\" class=\"dataframe\">\n  <thead>\n    <tr style=\"text-align: right;\">\n      <th></th>\n      <th>words</th>\n      <th>quantity</th>\n    </tr>\n  </thead>\n  <tbody>\n    <tr>\n      <th>0</th>\n      <td>supervisor</td>\n      <td>155</td>\n    </tr>\n    <tr>\n      <th>1</th>\n      <td>assistant</td>\n      <td>119</td>\n    </tr>\n    <tr>\n      <th>2</th>\n      <td>senior</td>\n      <td>112</td>\n    </tr>\n    <tr>\n      <th>3</th>\n      <td>technician</td>\n      <td>62</td>\n    </tr>\n    <tr>\n      <th>4</th>\n      <td>manager</td>\n      <td>62</td>\n    </tr>\n    <tr>\n      <th>5</th>\n      <td>worker</td>\n      <td>54</td>\n    </tr>\n    <tr>\n      <th>6</th>\n      <td>specialist</td>\n      <td>54</td>\n    </tr>\n    <tr>\n      <th>7</th>\n      <td>clerk</td>\n      <td>52</td>\n    </tr>\n    <tr>\n      <th>8</th>\n      <td>court</td>\n      <td>52</td>\n    </tr>\n    <tr>\n      <th>9</th>\n      <td>sprv</td>\n      <td>52</td>\n    </tr>\n    <tr>\n      <th>10</th>\n      <td>chief</td>\n      <td>50</td>\n    </tr>\n    <tr>\n      <th>11</th>\n      <td>iii</td>\n      <td>49</td>\n    </tr>\n    <tr>\n      <th>12</th>\n      <td>inspector</td>\n      <td>48</td>\n    </tr>\n    <tr>\n      <th>13</th>\n      <td>officer</td>\n      <td>47</td>\n    </tr>\n    <tr>\n      <th>14</th>\n      <td>and</td>\n      <td>46</td>\n    </tr>\n    <tr>\n      <th>15</th>\n      <td>asst</td>\n      <td>45</td>\n    </tr>\n    <tr>\n      <th>16</th>\n      <td>analyst</td>\n      <td>45</td>\n    </tr>\n    <tr>\n      <th>17</th>\n      <td>investigator</td>\n      <td>42</td>\n    </tr>\n    <tr>\n      <th>18</th>\n      <td>services</td>\n      <td>41</td>\n    </tr>\n    <tr>\n      <th>19</th>\n      <td>director</td>\n      <td>36</td>\n    </tr>\n    <tr>\n      <th>20</th>\n      <td>transit</td>\n      <td>35</td>\n    </tr>\n    <tr>\n      <th>21</th>\n      <td>public</td>\n      <td>34</td>\n    </tr>\n    <tr>\n      <th>22</th>\n      <td>health</td>\n      <td>34</td>\n    </tr>\n    <tr>\n      <th>23</th>\n      <td>engineer</td>\n      <td>33</td>\n    </tr>\n    <tr>\n      <th>24</th>\n      <td>department</td>\n      <td>33</td>\n    </tr>\n    <tr>\n      <th>25</th>\n      <td>service</td>\n      <td>32</td>\n    </tr>\n    <tr>\n      <th>26</th>\n      <td>police</td>\n      <td>31</td>\n    </tr>\n    <tr>\n      <th>27</th>\n      <td>deputy</td>\n      <td>31</td>\n    </tr>\n    <tr>\n      <th>28</th>\n      <td>principal</td>\n      <td>30</td>\n    </tr>\n    <tr>\n      <th>29</th>\n      <td>maintenance</td>\n      <td>27</td>\n    </tr>\n    <tr>\n      <th>30</th>\n      <td>fire</td>\n      <td>27</td>\n    </tr>\n    <tr>\n      <th>31</th>\n      <td>secretary</td>\n      <td>26</td>\n    </tr>\n    <tr>\n      <th>32</th>\n      <td>tech</td>\n      <td>24</td>\n    </tr>\n    <tr>\n      <th>33</th>\n      <td>coordinator</td>\n      <td>24</td>\n    </tr>\n    <tr>\n      <th>34</th>\n      <td>water</td>\n      <td>24</td>\n    </tr>\n    <tr>\n      <th>35</th>\n      <td>airport</td>\n      <td>23</td>\n    </tr>\n    <tr>\n      <th>36</th>\n      <td>medical</td>\n      <td>22</td>\n    </tr>\n    <tr>\n      <th>37</th>\n      <td>planner</td>\n      <td>21</td>\n    </tr>\n    <tr>\n      <th>38</th>\n      <td>property</td>\n      <td>20</td>\n    </tr>\n    <tr>\n      <th>39</th>\n      <td>staff</td>\n      <td>20</td>\n    </tr>\n    <tr>\n      <th>40</th>\n      <td>power</td>\n      <td>20</td>\n    </tr>\n    <tr>\n      <th>41</th>\n      <td>communications</td>\n      <td>19</td>\n    </tr>\n    <tr>\n      <th>42</th>\n      <td>svcs</td>\n      <td>18</td>\n    </tr>\n    <tr>\n      <th>43</th>\n      <td>associate</td>\n      <td>18</td>\n    </tr>\n    <tr>\n      <th>44</th>\n      <td>supervising</td>\n      <td>18</td>\n    </tr>\n    <tr>\n      <th>45</th>\n      <td>plant</td>\n      <td>18</td>\n    </tr>\n    <tr>\n      <th>46</th>\n      <td>probation</td>\n      <td>17</td>\n    </tr>\n    <tr>\n      <th>47</th>\n      <td>attorney</td>\n      <td>17</td>\n    </tr>\n    <tr>\n      <th>48</th>\n      <td>operator</td>\n      <td>17</td>\n    </tr>\n    <tr>\n      <th>49</th>\n      <td>supv</td>\n      <td>17</td>\n    </tr>\n  </tbody>\n</table>\n</div>"
     },
     "execution_count": 100,
     "metadata": {},
     "output_type": "execute_result"
    }
   ],
   "source": [
    "\n",
    "df_job_title_words[df_job_title_words['quantity'] > df_job_title_words.quantity.mean() + df_job_title_words.quantity.std()]"
   ],
   "metadata": {
    "collapsed": false,
    "pycharm": {
     "name": "#%%\n"
    }
   }
  },
  {
   "cell_type": "code",
   "execution_count": 143,
   "outputs": [
    {
     "data": {
      "text/plain": "         dep_words  quantity  len_words\n2           police        17          6\n4            chief        13          5\n8         director        11          8\n9             head        10          4\n11            fire         9          4\n12       assistant         9          9\n15       inspector         6          9\n17         sheriff         5          7\n18      lieutenant         5         10\n19       probation         4          9\n20          public         4          6\n22           staff         4          5\n24        sergeant         4          8\n25           sfers         3          5\n26           court         3          5\n27         officer         3          7\n28           clerk         3          5\n29            port         2          4\n30     investments         2         11\n32         medical         2          7\n33            adlt         2          4\n34          sealer         2          6\n35          health         2          6\n36        services         2          8\n37         weights         2          7\n38  transportation         2         14\n39            svcs         2          4\n40         airport         2          7\n42         captain         2          7\n44          senior         2          6\n45       municipal         2          9",
      "text/html": "<div>\n<style scoped>\n    .dataframe tbody tr th:only-of-type {\n        vertical-align: middle;\n    }\n\n    .dataframe tbody tr th {\n        vertical-align: top;\n    }\n\n    .dataframe thead th {\n        text-align: right;\n    }\n</style>\n<table border=\"1\" class=\"dataframe\">\n  <thead>\n    <tr style=\"text-align: right;\">\n      <th></th>\n      <th>dep_words</th>\n      <th>quantity</th>\n      <th>len_words</th>\n    </tr>\n  </thead>\n  <tbody>\n    <tr>\n      <th>2</th>\n      <td>police</td>\n      <td>17</td>\n      <td>6</td>\n    </tr>\n    <tr>\n      <th>4</th>\n      <td>chief</td>\n      <td>13</td>\n      <td>5</td>\n    </tr>\n    <tr>\n      <th>8</th>\n      <td>director</td>\n      <td>11</td>\n      <td>8</td>\n    </tr>\n    <tr>\n      <th>9</th>\n      <td>head</td>\n      <td>10</td>\n      <td>4</td>\n    </tr>\n    <tr>\n      <th>11</th>\n      <td>fire</td>\n      <td>9</td>\n      <td>4</td>\n    </tr>\n    <tr>\n      <th>12</th>\n      <td>assistant</td>\n      <td>9</td>\n      <td>9</td>\n    </tr>\n    <tr>\n      <th>15</th>\n      <td>inspector</td>\n      <td>6</td>\n      <td>9</td>\n    </tr>\n    <tr>\n      <th>17</th>\n      <td>sheriff</td>\n      <td>5</td>\n      <td>7</td>\n    </tr>\n    <tr>\n      <th>18</th>\n      <td>lieutenant</td>\n      <td>5</td>\n      <td>10</td>\n    </tr>\n    <tr>\n      <th>19</th>\n      <td>probation</td>\n      <td>4</td>\n      <td>9</td>\n    </tr>\n    <tr>\n      <th>20</th>\n      <td>public</td>\n      <td>4</td>\n      <td>6</td>\n    </tr>\n    <tr>\n      <th>22</th>\n      <td>staff</td>\n      <td>4</td>\n      <td>5</td>\n    </tr>\n    <tr>\n      <th>24</th>\n      <td>sergeant</td>\n      <td>4</td>\n      <td>8</td>\n    </tr>\n    <tr>\n      <th>25</th>\n      <td>sfers</td>\n      <td>3</td>\n      <td>5</td>\n    </tr>\n    <tr>\n      <th>26</th>\n      <td>court</td>\n      <td>3</td>\n      <td>5</td>\n    </tr>\n    <tr>\n      <th>27</th>\n      <td>officer</td>\n      <td>3</td>\n      <td>7</td>\n    </tr>\n    <tr>\n      <th>28</th>\n      <td>clerk</td>\n      <td>3</td>\n      <td>5</td>\n    </tr>\n    <tr>\n      <th>29</th>\n      <td>port</td>\n      <td>2</td>\n      <td>4</td>\n    </tr>\n    <tr>\n      <th>30</th>\n      <td>investments</td>\n      <td>2</td>\n      <td>11</td>\n    </tr>\n    <tr>\n      <th>32</th>\n      <td>medical</td>\n      <td>2</td>\n      <td>7</td>\n    </tr>\n    <tr>\n      <th>33</th>\n      <td>adlt</td>\n      <td>2</td>\n      <td>4</td>\n    </tr>\n    <tr>\n      <th>34</th>\n      <td>sealer</td>\n      <td>2</td>\n      <td>6</td>\n    </tr>\n    <tr>\n      <th>35</th>\n      <td>health</td>\n      <td>2</td>\n      <td>6</td>\n    </tr>\n    <tr>\n      <th>36</th>\n      <td>services</td>\n      <td>2</td>\n      <td>8</td>\n    </tr>\n    <tr>\n      <th>37</th>\n      <td>weights</td>\n      <td>2</td>\n      <td>7</td>\n    </tr>\n    <tr>\n      <th>38</th>\n      <td>transportation</td>\n      <td>2</td>\n      <td>14</td>\n    </tr>\n    <tr>\n      <th>39</th>\n      <td>svcs</td>\n      <td>2</td>\n      <td>4</td>\n    </tr>\n    <tr>\n      <th>40</th>\n      <td>airport</td>\n      <td>2</td>\n      <td>7</td>\n    </tr>\n    <tr>\n      <th>42</th>\n      <td>captain</td>\n      <td>2</td>\n      <td>7</td>\n    </tr>\n    <tr>\n      <th>44</th>\n      <td>senior</td>\n      <td>2</td>\n      <td>6</td>\n    </tr>\n    <tr>\n      <th>45</th>\n      <td>municipal</td>\n      <td>2</td>\n      <td>9</td>\n    </tr>\n  </tbody>\n</table>\n</div>"
     },
     "execution_count": 143,
     "metadata": {},
     "output_type": "execute_result"
    }
   ],
   "source": [
    "df_departments = df_job_title[df_job_title.JobTitle.str.contains('dep')]\n",
    "ls_departments = []\n",
    "for i in (df_departments.JobTitle.apply(lambda x: str(x).split(' '))).to_list():\n",
    "    for k in i:\n",
    "        ls_departments.append(k)\n",
    "\n",
    "df_departments = pd.DataFrame(ls_departments, columns=['dep_words'])\n",
    "df_departments = df_departments.groupby(by='dep_words')[['dep_words']].count()\n",
    "df_departments = df_departments.rename(columns={'dep_words':'quantity'})\n",
    "df_departments = (df_departments.sort_values(by='quantity', ascending=False)).reset_index()\n",
    "df_departments['len_words'] = df_departments.dep_words.apply(lambda x: len(str(x)))\n",
    "df_departments[(~df_departments['dep_words'].str.contains('dep'))\n",
    "               & (df_departments.quantity > 1)\n",
    "               & (df_departments.len_words > 3)]\n",
    "\n",
    "\n",
    "# 'police', 'sheriff'\n",
    "# 'fire'\n",
    "# 'med', 'nurse'"
   ],
   "metadata": {
    "collapsed": false,
    "pycharm": {
     "name": "#%%\n"
    }
   }
  },
  {
   "cell_type": "code",
   "execution_count": 141,
   "outputs": [
    {
     "data": {
      "text/plain": "                        Id                       JobTitle BasePay OvertimePay  \\\nEmployeeName                                                                    \naaron c stevenson    73964    lieutenant fire suppression  134538     40139.8   \naaron c stevenson   111888    lieutenant fire suppression  127457     38240.8   \naaron fisher           683                    firefighter  105935     56048.7   \naaron fisher         36961                    firefighter  109784     65175.6   \naaron i fisher       73246                    firefighter  116957     91193.6   \n...                    ...                            ...     ...         ...   \nzachary w pumphrey   73003  battalion chief fire suppress  184543     50848.3   \nzachary w pumphrey  110712  battalion chief fire suppress  177852     23110.3   \nzackary j tibbits    73554                    firefighter  115893     78500.4   \nzackary j tibbits   112097                    firefighter  112704     49799.7   \nzackary tibbits      36996                    firefighter  110560     67009.5   \n\n                   OtherPay Benefits   TotalPay  TotalPayBenefits  Year Status  \nEmployeeName                                                                    \naaron c stevenson   15512.6  44643.6  190190.14         234833.75  2013    NaN  \naaron c stevenson   15394.1  46309.8  181091.78         227401.58  2014     FT  \naaron fisher        18110.2      NaN  180093.59         180093.59  2011    NaN  \naaron fisher        18853.6    39343  193813.08         233156.05  2012    NaN  \naaron i fisher        19856  41406.6  228006.37         269412.95  2013    NaN  \n...                     ...      ...        ...               ...   ...    ...  \nzachary w pumphrey  23067.8  55646.6  258459.41         314106.00  2013    NaN  \nzachary w pumphrey  22312.4  57268.1  223274.28         280542.42  2014     FT  \nzackary j tibbits     17577  39617.3  211970.90         251588.21  2013    NaN  \nzackary j tibbits   17320.1  41991.4  179823.59         221814.99  2014     FT  \nzackary tibbits     15477.5  38547.2  193046.77         231593.95  2012    NaN  \n\n[5879 rows x 10 columns]",
      "text/html": "<div>\n<style scoped>\n    .dataframe tbody tr th:only-of-type {\n        vertical-align: middle;\n    }\n\n    .dataframe tbody tr th {\n        vertical-align: top;\n    }\n\n    .dataframe thead th {\n        text-align: right;\n    }\n</style>\n<table border=\"1\" class=\"dataframe\">\n  <thead>\n    <tr style=\"text-align: right;\">\n      <th></th>\n      <th>Id</th>\n      <th>JobTitle</th>\n      <th>BasePay</th>\n      <th>OvertimePay</th>\n      <th>OtherPay</th>\n      <th>Benefits</th>\n      <th>TotalPay</th>\n      <th>TotalPayBenefits</th>\n      <th>Year</th>\n      <th>Status</th>\n    </tr>\n    <tr>\n      <th>EmployeeName</th>\n      <th></th>\n      <th></th>\n      <th></th>\n      <th></th>\n      <th></th>\n      <th></th>\n      <th></th>\n      <th></th>\n      <th></th>\n      <th></th>\n    </tr>\n  </thead>\n  <tbody>\n    <tr>\n      <th>aaron c stevenson</th>\n      <td>73964</td>\n      <td>lieutenant fire suppression</td>\n      <td>134538</td>\n      <td>40139.8</td>\n      <td>15512.6</td>\n      <td>44643.6</td>\n      <td>190190.14</td>\n      <td>234833.75</td>\n      <td>2013</td>\n      <td>NaN</td>\n    </tr>\n    <tr>\n      <th>aaron c stevenson</th>\n      <td>111888</td>\n      <td>lieutenant fire suppression</td>\n      <td>127457</td>\n      <td>38240.8</td>\n      <td>15394.1</td>\n      <td>46309.8</td>\n      <td>181091.78</td>\n      <td>227401.58</td>\n      <td>2014</td>\n      <td>FT</td>\n    </tr>\n    <tr>\n      <th>aaron fisher</th>\n      <td>683</td>\n      <td>firefighter</td>\n      <td>105935</td>\n      <td>56048.7</td>\n      <td>18110.2</td>\n      <td>NaN</td>\n      <td>180093.59</td>\n      <td>180093.59</td>\n      <td>2011</td>\n      <td>NaN</td>\n    </tr>\n    <tr>\n      <th>aaron fisher</th>\n      <td>36961</td>\n      <td>firefighter</td>\n      <td>109784</td>\n      <td>65175.6</td>\n      <td>18853.6</td>\n      <td>39343</td>\n      <td>193813.08</td>\n      <td>233156.05</td>\n      <td>2012</td>\n      <td>NaN</td>\n    </tr>\n    <tr>\n      <th>aaron i fisher</th>\n      <td>73246</td>\n      <td>firefighter</td>\n      <td>116957</td>\n      <td>91193.6</td>\n      <td>19856</td>\n      <td>41406.6</td>\n      <td>228006.37</td>\n      <td>269412.95</td>\n      <td>2013</td>\n      <td>NaN</td>\n    </tr>\n    <tr>\n      <th>...</th>\n      <td>...</td>\n      <td>...</td>\n      <td>...</td>\n      <td>...</td>\n      <td>...</td>\n      <td>...</td>\n      <td>...</td>\n      <td>...</td>\n      <td>...</td>\n      <td>...</td>\n    </tr>\n    <tr>\n      <th>zachary w pumphrey</th>\n      <td>73003</td>\n      <td>battalion chief fire suppress</td>\n      <td>184543</td>\n      <td>50848.3</td>\n      <td>23067.8</td>\n      <td>55646.6</td>\n      <td>258459.41</td>\n      <td>314106.00</td>\n      <td>2013</td>\n      <td>NaN</td>\n    </tr>\n    <tr>\n      <th>zachary w pumphrey</th>\n      <td>110712</td>\n      <td>battalion chief fire suppress</td>\n      <td>177852</td>\n      <td>23110.3</td>\n      <td>22312.4</td>\n      <td>57268.1</td>\n      <td>223274.28</td>\n      <td>280542.42</td>\n      <td>2014</td>\n      <td>FT</td>\n    </tr>\n    <tr>\n      <th>zackary j tibbits</th>\n      <td>73554</td>\n      <td>firefighter</td>\n      <td>115893</td>\n      <td>78500.4</td>\n      <td>17577</td>\n      <td>39617.3</td>\n      <td>211970.90</td>\n      <td>251588.21</td>\n      <td>2013</td>\n      <td>NaN</td>\n    </tr>\n    <tr>\n      <th>zackary j tibbits</th>\n      <td>112097</td>\n      <td>firefighter</td>\n      <td>112704</td>\n      <td>49799.7</td>\n      <td>17320.1</td>\n      <td>41991.4</td>\n      <td>179823.59</td>\n      <td>221814.99</td>\n      <td>2014</td>\n      <td>FT</td>\n    </tr>\n    <tr>\n      <th>zackary tibbits</th>\n      <td>36996</td>\n      <td>firefighter</td>\n      <td>110560</td>\n      <td>67009.5</td>\n      <td>15477.5</td>\n      <td>38547.2</td>\n      <td>193046.77</td>\n      <td>231593.95</td>\n      <td>2012</td>\n      <td>NaN</td>\n    </tr>\n  </tbody>\n</table>\n<p>5879 rows × 10 columns</p>\n</div>"
     },
     "execution_count": 141,
     "metadata": {},
     "output_type": "execute_result"
    }
   ],
   "source": [
    "df_test[df_test.JobTitle.str.contains('fire')]"
   ],
   "metadata": {
    "collapsed": false,
    "pycharm": {
     "name": "#%%\n"
    }
   }
  },
  {
   "cell_type": "code",
   "execution_count": null,
   "outputs": [],
   "source": [
    "# df_test['department'] =\n"
   ],
   "metadata": {
    "collapsed": false,
    "pycharm": {
     "name": "#%%\n"
    }
   }
  },
  {
   "cell_type": "code",
   "execution_count": 1,
   "metadata": {
    "pycharm": {
     "name": "#%%\n"
    }
   },
   "outputs": [
    {
     "ename": "NameError",
     "evalue": "name 'df_test' is not defined",
     "output_type": "error",
     "traceback": [
      "\u001B[1;31m---------------------------------------------------------------------------\u001B[0m",
      "\u001B[1;31mNameError\u001B[0m                                 Traceback (most recent call last)",
      "\u001B[1;32m<ipython-input-1-00657c4405c5>\u001B[0m in \u001B[0;36m<module>\u001B[1;34m\u001B[0m\n\u001B[0;32m      2\u001B[0m \u001B[1;33m\u001B[0m\u001B[0m\n\u001B[0;32m      3\u001B[0m \u001B[1;33m\u001B[0m\u001B[0m\n\u001B[1;32m----> 4\u001B[1;33m \u001B[0mdf_test\u001B[0m\u001B[1;33m\u001B[0m\u001B[1;33m\u001B[0m\u001B[0m\n\u001B[0m",
      "\u001B[1;31mNameError\u001B[0m: name 'df_test' is not defined"
     ]
    }
   ],
   "source": [
    "# df_test.groupby(by='')['Status'].count().sort_values(ascending=False)\n",
    "\n",
    "\n",
    "df_test"
   ]
  },
  {
   "cell_type": "code",
   "execution_count": 33,
   "outputs": [],
   "source": [
    "ls_words_new = ['fire', 'police', 'medical', 'inspector', 'officer', 'health', 'police', 'principal', 'fire', 'water', 'medical', 'emergency'\n",
    "    , 'superintendent', 'nurse', 'sheriff', 'patient', 'captain', 'clinical', 'sergeant', 'criminal', 'psychiatric'\n",
    "    , 'cleaner', 'patrol', 'toxicologist', 'watershed', 'sheriffs', 'physician', 'survey', 'hygienist', 'hospital'\n",
    "    , 'transcriber', 'hlth', 'physical', 'therapy', 'diagnostic', 'chemist', 'citizen', 'insp', 'supervisors', 'body'\n",
    "    , 'psychologist', 'nursing', 'wastewater', 'welfare', 'criminalist', 'wharfinger', 'epidemiologist'\n",
    "    , 'microbiologist', 'laborer', 'pharmacy', 'lifeguard', 'pharmacist', 'orthopedic', 'custodial', 'dietitian'\n",
    "    , 'dental', 'intern', 'paramedic', 'aquatics', 'advisor', 'radiologic', 'nursery', 'morgue', 'dentist', 'custodian'\n",
    "    , 'acupuncturist', 'aidehealth', 'bacteriological', 'clincal', 'anesthetist', 'surgical', 'pathologist', 'paralegal'\n",
    "    , 'supervis', 'nurses', 'nutritionist', 'supervi', 'superv', 'respiratory', 'firefighter', 'emerg', 'emergencycy'\n",
    "    , 'emtparamedicfirefighter', 'lieutfire', 'mayor', 'mayors', 'meas', 'inpsector', 'inspections']"
   ],
   "metadata": {
    "collapsed": false,
    "pycharm": {
     "name": "#%%\n"
    }
   }
  },
  {
   "cell_type": "code",
   "execution_count": 34,
   "outputs": [
    {
     "ename": "TypeError",
     "evalue": "unhashable type: 'list'",
     "output_type": "error",
     "traceback": [
      "\u001B[1;31m---------------------------------------------------------------------------\u001B[0m",
      "\u001B[1;31mTypeError\u001B[0m                                 Traceback (most recent call last)",
      "\u001B[1;32m<ipython-input-34-01583f973995>\u001B[0m in \u001B[0;36m<module>\u001B[1;34m\u001B[0m\n\u001B[1;32m----> 1\u001B[1;33m \u001B[0mdf_salaries\u001B[0m\u001B[1;33m.\u001B[0m\u001B[0mEmployeeName\u001B[0m\u001B[1;33m.\u001B[0m\u001B[0mstr\u001B[0m\u001B[1;33m.\u001B[0m\u001B[0mcontains\u001B[0m\u001B[1;33m(\u001B[0m\u001B[0mls_words_new\u001B[0m\u001B[1;33m)\u001B[0m\u001B[1;33m\u001B[0m\u001B[1;33m\u001B[0m\u001B[0m\n\u001B[0m\u001B[0;32m      2\u001B[0m \u001B[1;33m\u001B[0m\u001B[0m\n",
      "\u001B[1;32m~\\anaconda3\\lib\\site-packages\\pandas\\core\\strings.py\u001B[0m in \u001B[0;36mwrapper\u001B[1;34m(self, *args, **kwargs)\u001B[0m\n\u001B[0;32m   1999\u001B[0m                 )\n\u001B[0;32m   2000\u001B[0m                 \u001B[1;32mraise\u001B[0m \u001B[0mTypeError\u001B[0m\u001B[1;33m(\u001B[0m\u001B[0mmsg\u001B[0m\u001B[1;33m)\u001B[0m\u001B[1;33m\u001B[0m\u001B[1;33m\u001B[0m\u001B[0m\n\u001B[1;32m-> 2001\u001B[1;33m             \u001B[1;32mreturn\u001B[0m \u001B[0mfunc\u001B[0m\u001B[1;33m(\u001B[0m\u001B[0mself\u001B[0m\u001B[1;33m,\u001B[0m \u001B[1;33m*\u001B[0m\u001B[0margs\u001B[0m\u001B[1;33m,\u001B[0m \u001B[1;33m**\u001B[0m\u001B[0mkwargs\u001B[0m\u001B[1;33m)\u001B[0m\u001B[1;33m\u001B[0m\u001B[1;33m\u001B[0m\u001B[0m\n\u001B[0m\u001B[0;32m   2002\u001B[0m \u001B[1;33m\u001B[0m\u001B[0m\n\u001B[0;32m   2003\u001B[0m         \u001B[0mwrapper\u001B[0m\u001B[1;33m.\u001B[0m\u001B[0m__name__\u001B[0m \u001B[1;33m=\u001B[0m \u001B[0mfunc_name\u001B[0m\u001B[1;33m\u001B[0m\u001B[1;33m\u001B[0m\u001B[0m\n",
      "\u001B[1;32m~\\anaconda3\\lib\\site-packages\\pandas\\core\\strings.py\u001B[0m in \u001B[0;36mcontains\u001B[1;34m(self, pat, case, flags, na, regex)\u001B[0m\n\u001B[0;32m   2822\u001B[0m     \u001B[1;33m@\u001B[0m\u001B[0mforbid_nonstring_types\u001B[0m\u001B[1;33m(\u001B[0m\u001B[1;33m[\u001B[0m\u001B[1;34m\"bytes\"\u001B[0m\u001B[1;33m]\u001B[0m\u001B[1;33m)\u001B[0m\u001B[1;33m\u001B[0m\u001B[1;33m\u001B[0m\u001B[0m\n\u001B[0;32m   2823\u001B[0m     \u001B[1;32mdef\u001B[0m \u001B[0mcontains\u001B[0m\u001B[1;33m(\u001B[0m\u001B[0mself\u001B[0m\u001B[1;33m,\u001B[0m \u001B[0mpat\u001B[0m\u001B[1;33m,\u001B[0m \u001B[0mcase\u001B[0m\u001B[1;33m=\u001B[0m\u001B[1;32mTrue\u001B[0m\u001B[1;33m,\u001B[0m \u001B[0mflags\u001B[0m\u001B[1;33m=\u001B[0m\u001B[1;36m0\u001B[0m\u001B[1;33m,\u001B[0m \u001B[0mna\u001B[0m\u001B[1;33m=\u001B[0m\u001B[0mnp\u001B[0m\u001B[1;33m.\u001B[0m\u001B[0mnan\u001B[0m\u001B[1;33m,\u001B[0m \u001B[0mregex\u001B[0m\u001B[1;33m=\u001B[0m\u001B[1;32mTrue\u001B[0m\u001B[1;33m)\u001B[0m\u001B[1;33m:\u001B[0m\u001B[1;33m\u001B[0m\u001B[1;33m\u001B[0m\u001B[0m\n\u001B[1;32m-> 2824\u001B[1;33m         result = str_contains(\n\u001B[0m\u001B[0;32m   2825\u001B[0m             \u001B[0mself\u001B[0m\u001B[1;33m.\u001B[0m\u001B[0m_parent\u001B[0m\u001B[1;33m,\u001B[0m \u001B[0mpat\u001B[0m\u001B[1;33m,\u001B[0m \u001B[0mcase\u001B[0m\u001B[1;33m=\u001B[0m\u001B[0mcase\u001B[0m\u001B[1;33m,\u001B[0m \u001B[0mflags\u001B[0m\u001B[1;33m=\u001B[0m\u001B[0mflags\u001B[0m\u001B[1;33m,\u001B[0m \u001B[0mna\u001B[0m\u001B[1;33m=\u001B[0m\u001B[0mna\u001B[0m\u001B[1;33m,\u001B[0m \u001B[0mregex\u001B[0m\u001B[1;33m=\u001B[0m\u001B[0mregex\u001B[0m\u001B[1;33m\u001B[0m\u001B[1;33m\u001B[0m\u001B[0m\n\u001B[0;32m   2826\u001B[0m         )\n",
      "\u001B[1;32m~\\anaconda3\\lib\\site-packages\\pandas\\core\\strings.py\u001B[0m in \u001B[0;36mstr_contains\u001B[1;34m(arr, pat, case, flags, na, regex)\u001B[0m\n\u001B[0;32m    437\u001B[0m             \u001B[0mflags\u001B[0m \u001B[1;33m|=\u001B[0m \u001B[0mre\u001B[0m\u001B[1;33m.\u001B[0m\u001B[0mIGNORECASE\u001B[0m\u001B[1;33m\u001B[0m\u001B[1;33m\u001B[0m\u001B[0m\n\u001B[0;32m    438\u001B[0m \u001B[1;33m\u001B[0m\u001B[0m\n\u001B[1;32m--> 439\u001B[1;33m         \u001B[0mregex\u001B[0m \u001B[1;33m=\u001B[0m \u001B[0mre\u001B[0m\u001B[1;33m.\u001B[0m\u001B[0mcompile\u001B[0m\u001B[1;33m(\u001B[0m\u001B[0mpat\u001B[0m\u001B[1;33m,\u001B[0m \u001B[0mflags\u001B[0m\u001B[1;33m=\u001B[0m\u001B[0mflags\u001B[0m\u001B[1;33m)\u001B[0m\u001B[1;33m\u001B[0m\u001B[1;33m\u001B[0m\u001B[0m\n\u001B[0m\u001B[0;32m    440\u001B[0m \u001B[1;33m\u001B[0m\u001B[0m\n\u001B[0;32m    441\u001B[0m         \u001B[1;32mif\u001B[0m \u001B[0mregex\u001B[0m\u001B[1;33m.\u001B[0m\u001B[0mgroups\u001B[0m \u001B[1;33m>\u001B[0m \u001B[1;36m0\u001B[0m\u001B[1;33m:\u001B[0m\u001B[1;33m\u001B[0m\u001B[1;33m\u001B[0m\u001B[0m\n",
      "\u001B[1;32m~\\anaconda3\\lib\\re.py\u001B[0m in \u001B[0;36mcompile\u001B[1;34m(pattern, flags)\u001B[0m\n\u001B[0;32m    250\u001B[0m \u001B[1;32mdef\u001B[0m \u001B[0mcompile\u001B[0m\u001B[1;33m(\u001B[0m\u001B[0mpattern\u001B[0m\u001B[1;33m,\u001B[0m \u001B[0mflags\u001B[0m\u001B[1;33m=\u001B[0m\u001B[1;36m0\u001B[0m\u001B[1;33m)\u001B[0m\u001B[1;33m:\u001B[0m\u001B[1;33m\u001B[0m\u001B[1;33m\u001B[0m\u001B[0m\n\u001B[0;32m    251\u001B[0m     \u001B[1;34m\"Compile a regular expression pattern, returning a Pattern object.\"\u001B[0m\u001B[1;33m\u001B[0m\u001B[1;33m\u001B[0m\u001B[0m\n\u001B[1;32m--> 252\u001B[1;33m     \u001B[1;32mreturn\u001B[0m \u001B[0m_compile\u001B[0m\u001B[1;33m(\u001B[0m\u001B[0mpattern\u001B[0m\u001B[1;33m,\u001B[0m \u001B[0mflags\u001B[0m\u001B[1;33m)\u001B[0m\u001B[1;33m\u001B[0m\u001B[1;33m\u001B[0m\u001B[0m\n\u001B[0m\u001B[0;32m    253\u001B[0m \u001B[1;33m\u001B[0m\u001B[0m\n\u001B[0;32m    254\u001B[0m \u001B[1;32mdef\u001B[0m \u001B[0mpurge\u001B[0m\u001B[1;33m(\u001B[0m\u001B[1;33m)\u001B[0m\u001B[1;33m:\u001B[0m\u001B[1;33m\u001B[0m\u001B[1;33m\u001B[0m\u001B[0m\n",
      "\u001B[1;32m~\\anaconda3\\lib\\re.py\u001B[0m in \u001B[0;36m_compile\u001B[1;34m(pattern, flags)\u001B[0m\n\u001B[0;32m    292\u001B[0m         \u001B[0mflags\u001B[0m \u001B[1;33m=\u001B[0m \u001B[0mflags\u001B[0m\u001B[1;33m.\u001B[0m\u001B[0mvalue\u001B[0m\u001B[1;33m\u001B[0m\u001B[1;33m\u001B[0m\u001B[0m\n\u001B[0;32m    293\u001B[0m     \u001B[1;32mtry\u001B[0m\u001B[1;33m:\u001B[0m\u001B[1;33m\u001B[0m\u001B[1;33m\u001B[0m\u001B[0m\n\u001B[1;32m--> 294\u001B[1;33m         \u001B[1;32mreturn\u001B[0m \u001B[0m_cache\u001B[0m\u001B[1;33m[\u001B[0m\u001B[0mtype\u001B[0m\u001B[1;33m(\u001B[0m\u001B[0mpattern\u001B[0m\u001B[1;33m)\u001B[0m\u001B[1;33m,\u001B[0m \u001B[0mpattern\u001B[0m\u001B[1;33m,\u001B[0m \u001B[0mflags\u001B[0m\u001B[1;33m]\u001B[0m\u001B[1;33m\u001B[0m\u001B[1;33m\u001B[0m\u001B[0m\n\u001B[0m\u001B[0;32m    295\u001B[0m     \u001B[1;32mexcept\u001B[0m \u001B[0mKeyError\u001B[0m\u001B[1;33m:\u001B[0m\u001B[1;33m\u001B[0m\u001B[1;33m\u001B[0m\u001B[0m\n\u001B[0;32m    296\u001B[0m         \u001B[1;32mpass\u001B[0m\u001B[1;33m\u001B[0m\u001B[1;33m\u001B[0m\u001B[0m\n",
      "\u001B[1;31mTypeError\u001B[0m: unhashable type: 'list'"
     ]
    }
   ],
   "source": [
    "df_salaries.EmployeeName.re.c"
   ],
   "metadata": {
    "collapsed": false,
    "pycharm": {
     "name": "#%%\n"
    }
   }
  },
  {
   "cell_type": "code",
   "execution_count": null,
   "outputs": [],
   "source": [
    "# отобрать те должности, которые не содержат fire/medical/police и потом разбить по словам и проанализировать слова\n",
    "df_work = df_salaries.copy()\n",
    "\n",
    "\n"
   ],
   "metadata": {
    "collapsed": false,
    "pycharm": {
     "name": "#%%\n"
    }
   }
  },
  {
   "cell_type": "code",
   "execution_count": 1,
   "outputs": [
    {
     "ename": "NameError",
     "evalue": "name 'px' is not defined",
     "output_type": "error",
     "traceback": [
      "\u001B[1;31m---------------------------------------------------------------------------\u001B[0m",
      "\u001B[1;31mNameError\u001B[0m                                 Traceback (most recent call last)",
      "\u001B[1;32m<ipython-input-1-fa3c4123621f>\u001B[0m in \u001B[0;36m<module>\u001B[1;34m\u001B[0m\n\u001B[1;32m----> 1\u001B[1;33m \u001B[0mpx\u001B[0m\u001B[1;33m.\u001B[0m\u001B[0mcolors\u001B[0m\u001B[1;33m.\u001B[0m\u001B[0mcolorbrewer\u001B[0m\u001B[1;33m.\u001B[0m\u001B[0mswatches\u001B[0m\u001B[1;33m(\u001B[0m\u001B[1;33m)\u001B[0m\u001B[1;33m\u001B[0m\u001B[1;33m\u001B[0m\u001B[0m\n\u001B[0m\u001B[0;32m      2\u001B[0m \u001B[1;31m# rgb(,,)\u001B[0m\u001B[1;33m\u001B[0m\u001B[1;33m\u001B[0m\u001B[1;33m\u001B[0m\u001B[0m\n\u001B[0;32m      3\u001B[0m \u001B[1;33m\u001B[0m\u001B[0m\n",
      "\u001B[1;31mNameError\u001B[0m: name 'px' is not defined"
     ]
    }
   ],
   "source": [
    "px.colors.colorbrewer.swatches()\n",
    "# rgb(,,)"
   ],
   "metadata": {
    "collapsed": false,
    "pycharm": {
     "name": "#%%\n"
    }
   }
  },
  {
   "cell_type": "code",
   "execution_count": 17,
   "outputs": [
    {
     "data": {
      "text/plain": "'rgb(201,148,199)'"
     },
     "execution_count": 17,
     "metadata": {},
     "output_type": "execute_result"
    }
   ],
   "source": [
    "\n"
   ],
   "metadata": {
    "collapsed": false,
    "pycharm": {
     "name": "#%%\n"
    }
   }
  }
 ],
 "metadata": {
  "kernelspec": {
   "display_name": "PyCharm (School_DA)",
   "language": "python",
   "name": "pycharm-f169a146"
  },
  "language_info": {
   "codemirror_mode": {
    "name": "ipython",
    "version": 3
   },
   "file_extension": ".py",
   "mimetype": "text/x-python",
   "name": "python",
   "nbconvert_exporter": "python",
   "pygments_lexer": "ipython3",
   "version": "3.8.5"
  },
  "toc": {
   "base_numbering": 1,
   "nav_menu": {},
   "number_sections": true,
   "sideBar": true,
   "skip_h1_title": false,
   "title_cell": "Table of Contents",
   "title_sidebar": "Contents",
   "toc_cell": true,
   "toc_position": {},
   "toc_section_display": true,
   "toc_window_display": false
  }
 },
 "nbformat": 4,
 "nbformat_minor": 1
}