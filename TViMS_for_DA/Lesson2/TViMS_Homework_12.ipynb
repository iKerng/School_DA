{
 "nbformat": 4,
 "nbformat_minor": 0,
 "metadata": {
  "colab": {
   "name": "Практика к занятию 12.ipynb",
   "provenance": [],
   "collapsed_sections": []
  },
  "kernelspec": {
   "name": "pycharm-f169a146",
   "language": "python",
   "display_name": "PyCharm (School_DA)"
  }
 },
 "cells": [
  {
   "cell_type": "markdown",
   "metadata": {
    "id": "pDrecLU-4QjS"
   },
   "source": [
    "# Практика"
   ]
  },
  {
   "cell_type": "code",
   "metadata": {
    "id": "a6XFMuQUG6jO"
   },
   "source": [
    "import pandas as pd\n",
    "import numpy as np\n",
    "import matplotlib.pyplot as plt\n",
    "import scipy.stats as sts\n",
    "import math\n",
    "%matplotlib inline"
   ],
   "execution_count": 2,
   "outputs": []
  },
  {
   "cell_type": "markdown",
   "metadata": {
    "id": "5owLnS0MHJnz"
   },
   "source": [
    "## ЦПТ для различных распределений\n",
    "Возьмите то непрерывное распределение, которое вам больше всего понравится из списка доступных в модуле [scipy.stats]\n",
    "(https://docs.scipy.org/doc/scipy/reference/stats.html)."
   ]
  },
  {
   "cell_type": "markdown",
   "metadata": {
    "id": "v1IvIGF9IRgH"
   },
   "source": [
    "### Сгенерируйте примеры из распределения"
   ]
  },
  {
   "cell_type": "code",
   "metadata": {
    "id": "l4oTC1NSHvl7",
    "colab": {
     "base_uri": "https://localhost:8080/",
     "height": 377
    },
    "outputId": "52df1553-6d91-4452-9ade-e2a62a8d7ff2"
   },
   "source": [
    "# ваш код тут\n",
    "# например вот такое распределение https://docs.scipy.org/doc/scipy/reference/generated/scipy.stats.cosine.html#scipy.stats.cosine\n",
    "my_scale = 0.7\n",
    "my_loc = 2.02\n",
    "rv_laplace = sts.laplace(scale=my_scale, loc=my_loc)\n",
    "sample = pd.DataFrame(rv_laplace.rvs(size=1000))\n",
    "sample"
   ],
   "execution_count": 2,
   "outputs": [
    {
     "data": {
      "text/plain": "            0\n0    2.417920\n1    2.223249\n2   -1.061530\n3    2.938012\n4    2.715452\n..        ...\n995  2.838811\n996  2.126336\n997  2.630760\n998  1.983747\n999  2.748508\n\n[1000 rows x 1 columns]",
      "text/html": "<div>\n<style scoped>\n    .dataframe tbody tr th:only-of-type {\n        vertical-align: middle;\n    }\n\n    .dataframe tbody tr th {\n        vertical-align: top;\n    }\n\n    .dataframe thead th {\n        text-align: right;\n    }\n</style>\n<table border=\"1\" class=\"dataframe\">\n  <thead>\n    <tr style=\"text-align: right;\">\n      <th></th>\n      <th>0</th>\n    </tr>\n  </thead>\n  <tbody>\n    <tr>\n      <th>0</th>\n      <td>2.417920</td>\n    </tr>\n    <tr>\n      <th>1</th>\n      <td>2.223249</td>\n    </tr>\n    <tr>\n      <th>2</th>\n      <td>-1.061530</td>\n    </tr>\n    <tr>\n      <th>3</th>\n      <td>2.938012</td>\n    </tr>\n    <tr>\n      <th>4</th>\n      <td>2.715452</td>\n    </tr>\n    <tr>\n      <th>...</th>\n      <td>...</td>\n    </tr>\n    <tr>\n      <th>995</th>\n      <td>2.838811</td>\n    </tr>\n    <tr>\n      <th>996</th>\n      <td>2.126336</td>\n    </tr>\n    <tr>\n      <th>997</th>\n      <td>2.630760</td>\n    </tr>\n    <tr>\n      <th>998</th>\n      <td>1.983747</td>\n    </tr>\n    <tr>\n      <th>999</th>\n      <td>2.748508</td>\n    </tr>\n  </tbody>\n</table>\n<p>1000 rows × 1 columns</p>\n</div>"
     },
     "execution_count": 2,
     "metadata": {},
     "output_type": "execute_result"
    }
   ]
  },
  {
   "cell_type": "code",
   "metadata": {
    "id": "pXTNSqAOCYX4"
   },
   "source": [
    "real_mean = rv_laplace.mean() # настоящее среднее случайной величины\n",
    "real_mean"
   ],
   "execution_count": 7,
   "outputs": [
    {
     "data": {
      "text/plain": "2.02"
     },
     "execution_count": 7,
     "metadata": {},
     "output_type": "execute_result"
    }
   ]
  },
  {
   "cell_type": "code",
   "metadata": {
    "id": "5x4hFKaUCWSY"
   },
   "source": [
    "real_var = rv_laplace.var()\n",
    "real_var# настоящая дисперсия случайной величины"
   ],
   "execution_count": 8,
   "outputs": [
    {
     "data": {
      "text/plain": "0.9799999999999999"
     },
     "execution_count": 8,
     "metadata": {},
     "output_type": "execute_result"
    }
   ]
  },
  {
   "cell_type": "markdown",
   "metadata": {
    "id": "4bNn15giIX77"
   },
   "source": [
    "### Постройте гистограмму выборки и теоретическую плотность распределения"
   ]
  },
  {
   "cell_type": "code",
   "metadata": {
    "id": "CwbvqecvIcXN",
    "colab": {
     "base_uri": "https://localhost:8080/",
     "height": 283
    },
    "outputId": "ace01d5d-2552-499b-bc4f-1eb19166af83"
   },
   "source": [
    "# ваш код тут\n",
    "plt.hist(sample, bins=25, density=True)\n",
    "x = np.linspace(-3.3,4.7,100)\n",
    "pdf = rv_laplace.pdf(x)\n",
    "plt.plot(x, pdf, label='теоретическая плотность', alpha=my_scale)\n",
    "plt.legend()"
   ],
   "execution_count": 8,
   "outputs": [
    {
     "data": {
      "text/plain": "<matplotlib.legend.Legend at 0x20490dd49a0>"
     },
     "execution_count": 8,
     "metadata": {},
     "output_type": "execute_result"
    },
    {
     "data": {
      "text/plain": "<Figure size 432x288 with 1 Axes>",
      "image/png": "[encoded data removed]"
     },
     "metadata": {
      "needs_background": "light"
     },
     "output_type": "display_data"
    }
   ]
  },
  {
   "cell_type": "code",
   "metadata": {
    "id": "rKd5XFelBqe7",
    "colab": {
     "base_uri": "https://localhost:8080/",
     "height": 51
    },
    "outputId": "32773b82-a3e9-46a2-b06d-a94d667d4f66"
   },
   "source": [
    "sample_mean = sample.mean() # выборочное среднее\n",
    "print(sample_mean)\n",
    "sample_dispersia = sample.var() # выборочная дисперсия\n",
    "print(sample_dispersia)"
   ],
   "execution_count": 10,
   "outputs": [
    {
     "name": "stdout",
     "output_type": "stream",
     "text": [
      "0    2.062228\n",
      "dtype: float64\n",
      "0    0.992199\n",
      "dtype: float64\n"
     ]
    }
   ]
  },
  {
   "cell_type": "markdown",
   "metadata": {
    "id": "qPuHR68NId_Z"
   },
   "source": [
    "### Оценим распределение выборочного среднего для разных объёмов выборок\n",
    "Для этого постройте на одном полотне гистограмму выборочных средних и теоретическое распределение выборочных\n",
    "средних по ЦПТ для разных объёмов выборок.\n",
    "\n",
    "Для теоретического распределение используйте настоящие значения мат ожидания и дисперсии\n",
    "(не приближенные на основе выборки)."
   ]
  },
  {
   "cell_type": "code",
   "metadata": {
    "id": "_mB8upK7J58w"
   },
   "source": [
    "plt.figure(figsize=(16,9))\n",
    "rv_laplace = sts.laplace(scale=my_scale, loc=my_loc)\n",
    "# количество выборочных средних\n",
    "k = 1000\n",
    "# ваш код тут\n",
    "# размеры выборки СВ\n",
    "sample_size = [10, 100, 1000]\n",
    "for n in sample_size:\n",
    "    means_rv = []\n",
    "    for m in range(k):\n",
    "        # генерируем 1000 выборочных средних величин с выборкой размера n\n",
    "        means_rv.append(sts.laplace(scale=my_scale, loc=my_loc).rvs(n).mean())\n",
    "    # формируем DataFrame\n",
    "    df_means = pd.DataFrame(means_rv, columns=['means_rv'])\n",
    "    # рассчитываем отношение отклонения выборочного среднего к расчетному значению стандартного отклонения Лапласа\n",
    "    df_means['means_rv'] = df_means.apply(lambda x: (rv_laplace.mean()-x)/(rv_laplace.std())*np.sqrt(n))\n",
    "    # строим гистограмму распределения\n",
    "    plt.hist(df_means, bins=25, density=True, alpha=0.6)\n",
    "x = np.linspace(-4, 4, 10000)\n",
    "plt.plot(x, rv_norm.pdf(x), linewidth=6)\n",
    "plt.legend(['norm_rv', '10', '100', '1000'])\n",
    "plt.show()"
   ],
   "execution_count": 90,
   "outputs": [
    {
     "data": {
      "text/plain": "<Figure size 1152x648 with 1 Axes>",
      "image/png": "[encoded data removed]"
     },
     "metadata": {
      "needs_background": "light"
     },
     "output_type": "display_data"
    }
   ]
  },
  {
   "cell_type": "markdown",
   "metadata": {
    "id": "TF1onBy_J7sX"
   },
   "source": [
    "Как вы считаете, для выбранного распределения апроксимация распределения выборочного среднего работает хорошо или плохо?\n",
    "**Ваш ответ:**\n",
    "какое бы мы не использовали распределение, чем больше экспериментов наблюдаем, тем более оно походит на\n",
    "нормальное распределение случайных величин"
   ]
  },
  {
   "cell_type": "markdown",
   "metadata": {
    "id": "xEyWxfjSfxGp"
   },
   "source": [
    "## Доверительный интервал на основе ЦПТ\n",
    "Возьмите данные для оттока телеком компании, и постройте доверительные интервалы для среднего значения total\n",
    "day calls, используя центральную предельную теорему в разбиении по колонке churn (ушел/не ушел).\n",
    "\n",
    "Для оценки дисперсии используйте несмещенную оценку (параметр ddof=1).\n",
    "\n",
    "Сделайте оценку с использованием явной формулы для z интервала, а затем с помощью функций \n",
    "`from statsmodels.stats.weightstats import _zconfint_generic`. Сравните результаты.\n",
    "\n",
    "\n",
    "Ссылка на данные: https://drive.google.com/file/d/1X_drKqoarnU2Sz2har7uSCsgyhh8Xtz8/view?usp=sharing"
   ]
  },
  {
   "cell_type": "code",
   "metadata": {
    "id": "56V0za8GfxeL",
    "pycharm": {
     "name": "#%%\n"
    }
   },
   "source": [
    "df_tel = pd.read_csv('C:\\\\Users\\\\iKerng\\\\Python\\\\School_DA\\\\TViMS_for_DA\\\\Lesson3\\\\telecom_churn.csv')\n",
    "df_tel_true = df_tel[df_tel['churn'] == True].copy()\n",
    "df_tel_false = df_tel[df_tel['churn'] == False].copy()\n",
    "\n",
    "\n",
    "tel_mean_true = df_tel_true['total day calls'].mean()\n",
    "tel_mean_false = df_tel_true['total day calls'].mean()\n",
    "\n",
    "\n",
    "# обозначим размер выборки 50 символов\n",
    "N = 50\n",
    "# создадим список выборочных средних из 1000 элементов следующим образом:\n",
    "k = 1000\n",
    "# случайным образом будем отбирать из генеральной выборки по 50 элементов и находить среднее значение этих 50 элементов\n",
    "# всего мы будем это проделывать 1000 раз\n",
    "sample_mean_true = [np.mean(np.random.choice(df_tel_true['total day calls'], N)) for i in range(k)]\n",
    "sample_mean_false = [np.mean(np.random.choice(df_tel_false['total day calls'], N)) for i in range(k)]\n",
    "\n",
    "\n",
    "interval_true = [np.mean(sample_mean_true) + sts.norm.ppf(0.025)*np.std(sample_mean_true, ddof=1)\n",
    "                 / np.sqrt(len(sample_mean_false)),\n",
    " np.mean(sample_mean_true) - sts.norm.ppf(0.025)*np.std(sample_mean_true, ddof=1)\n",
    "                 / np.sqrt(len(sample_mean_false))]\n",
    "\n",
    "interval_false = [np.mean(sample_mean_false) + sts.norm.ppf(0.025)*np.std(sample_mean_false, ddof=1)\n",
    "                  / np.sqrt(len(sample_mean_false)),\n",
    " np.mean(sample_mean_false) - sts.norm.ppf(0.025)*np.std(sample_mean_false, ddof=1)\n",
    "                  / np.sqrt(len(sample_mean_false))]\n",
    "\n",
    "print('Доверительный интервал для ушедших лежит в промежутке ' + str(interval_true))\n",
    "print('Доверительный интервал для оставшихся лежит в промежутке ' + str(interval_false))"
   ],
   "execution_count": 101,
   "outputs": [
    {
     "name": "stdout",
     "output_type": "stream",
     "text": [
      "Доверительный интервал для ушедших лежит в промежутке [101.12550053488343, 101.51725946511658]\n",
      "Доверительный интервал для оставшихся лежит в промежутке [100.29286419048648, 100.6405758095135]\n"
     ]
    }
   ]
  }
 ]
}